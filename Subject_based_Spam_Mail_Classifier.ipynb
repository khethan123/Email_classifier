{
  "nbformat": 4,
  "nbformat_minor": 0,
  "metadata": {
    "colab": {
      "provenance": [],
      "authorship_tag": "ABX9TyNFan7U7vmSdVSFJYUpD4Sm"
    },
    "kernelspec": {
      "name": "python3",
      "display_name": "Python 3"
    },
    "language_info": {
      "name": "python"
    }
  },
  "cells": [
    {
      "cell_type": "code",
      "execution_count": null,
      "metadata": {
        "id": "gt4PmWvmQnvB"
      },
      "outputs": [],
      "source": [
        "import os\n",
        "import tarfile\n",
        "import urllib.request\n",
        "\n",
        "DOWNLOAD_ROOT = \"http://spamassassin.apache.org/old/publiccorpus/\"\n",
        "HAM_URL = DOWNLOAD_ROOT + \"20030228_easy_ham.tar.bz2\"\n",
        "SPAM_URL = DOWNLOAD_ROOT + \"20030228_spam.tar.bz2\"\n",
        "SPAM_PATH = os.path.join(\"datasets\", \"spam\")\n",
        "\n",
        "def fetch_spam_data(ham_url=HAM_URL, spam_url=SPAM_URL, spam_path=SPAM_PATH):\n",
        "    if not os.path.isdir(spam_path):\n",
        "        os.makedirs(spam_path)\n",
        "    for filename, url in ((\"ham.tar.bz2\", ham_url), (\"spam.tar.bz2\", spam_url)):\n",
        "        path = os.path.join(spam_path, filename)\n",
        "        if not os.path.isfile(path):\n",
        "            urllib.request.urlretrieve(url, path)\n",
        "        tar_bz2_file = tarfile.open(path)\n",
        "        tar_bz2_file.extractall(path=spam_path)\n",
        "        tar_bz2_file.close()"
      ]
    },
    {
      "cell_type": "code",
      "source": [
        "fetch_spam_data()\n"
      ],
      "metadata": {
        "id": "c6BSavTdQzP2"
      },
      "execution_count": null,
      "outputs": []
    },
    {
      "cell_type": "code",
      "source": [
        "import os\n",
        "a = []\n",
        "for dirname, _, filenames in os.walk('/content/datasets/spam'):\n",
        "    for filename in filenames:\n",
        "        a.append(os.path.join(dirname, filename))\n",
        "\n",
        "print(len(a))"
      ],
      "metadata": {
        "colab": {
          "base_uri": "https://localhost:8080/"
        },
        "id": "er2PiJNJQ2xI",
        "outputId": "8bd2415e-589c-43fb-9bfc-b18e56b087b2"
      },
      "execution_count": null,
      "outputs": [
        {
          "output_type": "stream",
          "name": "stdout",
          "text": [
            "3004\n"
          ]
        }
      ]
    },
    {
      "cell_type": "code",
      "source": [
        "HAM_DIR = os.path.join(SPAM_PATH, \"easy_ham\")\n",
        "SPAM_DIR = os.path.join(SPAM_PATH, \"spam\")\n",
        "ham_filenames = [name for name in sorted(os.listdir(HAM_DIR)) if len(name) > 20]\n",
        "spam_filenames = [name for name in sorted(os.listdir(SPAM_DIR)) if len(name) > 20]"
      ],
      "metadata": {
        "id": "d28vfzstajF1"
      },
      "execution_count": null,
      "outputs": []
    },
    {
      "cell_type": "code",
      "source": [
        "print(f\"Total spam files: {len(spam_filenames)}\"+\"\\n\"+f\"Total ham files: {len(ham_filenames)}\")"
      ],
      "metadata": {
        "colab": {
          "base_uri": "https://localhost:8080/"
        },
        "id": "nKq4s2Eaanar",
        "outputId": "fdda15c0-7c03-4d17-dcc8-90674c54f39f"
      },
      "execution_count": null,
      "outputs": [
        {
          "output_type": "stream",
          "name": "stdout",
          "text": [
            "Total spam files: 500\n",
            "Total ham files: 2500\n"
          ]
        }
      ]
    },
    {
      "cell_type": "code",
      "source": [
        "ham_filenames[0]"
      ],
      "metadata": {
        "colab": {
          "base_uri": "https://localhost:8080/",
          "height": 35
        },
        "id": "pkQTsGONaucq",
        "outputId": "f9315222-608f-4068-83e6-f3ece9209bd7"
      },
      "execution_count": null,
      "outputs": [
        {
          "output_type": "execute_result",
          "data": {
            "text/plain": [
              "'00001.7c53336b37003a9286aba55d2945844c'"
            ],
            "application/vnd.google.colaboratory.intrinsic+json": {
              "type": "string"
            }
          },
          "metadata": {},
          "execution_count": 6
        }
      ]
    },
    {
      "cell_type": "code",
      "source": [
        "import email\n",
        "import email.policy\n",
        "\n",
        "def load_email(is_spam, filename, spam_path=SPAM_PATH):\n",
        "    directory = \"spam\" if is_spam else \"easy_ham\"\n",
        "    with open(os.path.join(spam_path, directory, filename), \"rb\") as f:\n",
        "        return email.parser.BytesParser(policy=email.policy.default).parse(f)"
      ],
      "metadata": {
        "id": "aEUwFEoZay69"
      },
      "execution_count": null,
      "outputs": []
    },
    {
      "cell_type": "code",
      "source": [
        "ham_emails = [load_email(is_spam=False, filename=name) for name in ham_filenames]\n",
        "spam_emails = [load_email(is_spam=True, filename=name) for name in spam_filenames]"
      ],
      "metadata": {
        "id": "-3-h1S8jbFiz"
      },
      "execution_count": null,
      "outputs": []
    },
    {
      "cell_type": "code",
      "source": [
        "print(\"\\033[1m\" + \"Ham mail:\" + \"\\033[0m\\n\",ham_emails[0].get_content().strip())\n",
        "print('\\n'*3)\n",
        "print('---'*9)\n",
        "print('\\n'*3)\n",
        "print(\"\\033[1m\" + \"Spam mail:\" + \"\\033[0m\\n\",spam_emails[6].get_content().strip())"
      ],
      "metadata": {
        "colab": {
          "base_uri": "https://localhost:8080/"
        },
        "id": "M-_h7yxjbIGp",
        "outputId": "778b1621-5e7b-448a-8dcc-2fc67e9a276c"
      },
      "execution_count": null,
      "outputs": [
        {
          "output_type": "stream",
          "name": "stdout",
          "text": [
            "\u001b[1mHam mail:\u001b[0m\n",
            " Date:        Wed, 21 Aug 2002 10:54:46 -0500\n",
            "    From:        Chris Garrigues <cwg-dated-1030377287.06fa6d@DeepEddy.Com>\n",
            "    Message-ID:  <1029945287.4797.TMDA@deepeddy.vircio.com>\n",
            "\n",
            "\n",
            "  | I can't reproduce this error.\n",
            "\n",
            "For me it is very repeatable... (like every time, without fail).\n",
            "\n",
            "This is the debug log of the pick happening ...\n",
            "\n",
            "18:19:03 Pick_It {exec pick +inbox -list -lbrace -lbrace -subject ftp -rbrace -rbrace} {4852-4852 -sequence mercury}\n",
            "18:19:03 exec pick +inbox -list -lbrace -lbrace -subject ftp -rbrace -rbrace 4852-4852 -sequence mercury\n",
            "18:19:04 Ftoc_PickMsgs {{1 hit}}\n",
            "18:19:04 Marking 1 hits\n",
            "18:19:04 tkerror: syntax error in expression \"int ...\n",
            "\n",
            "Note, if I run the pick command by hand ...\n",
            "\n",
            "delta$ pick +inbox -list -lbrace -lbrace -subject ftp -rbrace -rbrace  4852-4852 -sequence mercury\n",
            "1 hit\n",
            "\n",
            "That's where the \"1 hit\" comes from (obviously).  The version of nmh I'm\n",
            "using is ...\n",
            "\n",
            "delta$ pick -version\n",
            "pick -- nmh-1.0.4 [compiled on fuchsia.cs.mu.OZ.AU at Sun Mar 17 14:55:56 ICT 2002]\n",
            "\n",
            "And the relevant part of my .mh_profile ...\n",
            "\n",
            "delta$ mhparam pick\n",
            "-seq sel -list\n",
            "\n",
            "\n",
            "Since the pick command works, the sequence (actually, both of them, the\n",
            "one that's explicit on the command line, from the search popup, and the\n",
            "one that comes from .mh_profile) do get created.\n",
            "\n",
            "kre\n",
            "\n",
            "ps: this is still using the version of the code form a day ago, I haven't\n",
            "been able to reach the cvs repository today (local routing issue I think).\n",
            "\n",
            "\n",
            "\n",
            "_______________________________________________\n",
            "Exmh-workers mailing list\n",
            "Exmh-workers@redhat.com\n",
            "https://listman.redhat.com/mailman/listinfo/exmh-workers\n",
            "\n",
            "\n",
            "\n",
            "\n",
            "---------------------------\n",
            "\n",
            "\n",
            "\n",
            "\n",
            "\u001b[1mSpam mail:\u001b[0m\n",
            " Help wanted.  We are a 14 year old fortune 500 company, that is\n",
            "growing at a tremendous rate.  We are looking for individuals who\n",
            "want to work from home.\n",
            "\n",
            "This is an opportunity to make an excellent income.  No experience\n",
            "is required.  We will train you.\n",
            "\n",
            "So if you are looking to be employed from home with a career that has\n",
            "vast opportunities, then go:\n",
            "\n",
            "http://www.basetel.com/wealthnow\n",
            "\n",
            "We are looking for energetic and self motivated people.  If that is you\n",
            "than click on the link and fill out the form, and one of our\n",
            "employement specialist will contact you.\n",
            "\n",
            "To be removed from our link simple go to:\n",
            "\n",
            "http://www.basetel.com/remove.html\n",
            "\n",
            "\n",
            "4139vOLW7-758DoDY1425FRhM1-764SMFc8513fCsLl40\n"
          ]
        }
      ]
    },
    {
      "cell_type": "code",
      "source": [
        "ham_emails[0].get_content().strip()"
      ],
      "metadata": {
        "colab": {
          "base_uri": "https://localhost:8080/",
          "height": 192
        },
        "id": "lPBjzXDUbUqv",
        "outputId": "0044b8b8-4699-48f9-efd9-b9f4baa6eb86"
      },
      "execution_count": null,
      "outputs": [
        {
          "output_type": "execute_result",
          "data": {
            "text/plain": [
              "'Date:        Wed, 21 Aug 2002 10:54:46 -0500\\n    From:        Chris Garrigues <cwg-dated-1030377287.06fa6d@DeepEddy.Com>\\n    Message-ID:  <1029945287.4797.TMDA@deepeddy.vircio.com>\\n\\n\\n  | I can\\'t reproduce this error.\\n\\nFor me it is very repeatable... (like every time, without fail).\\n\\nThis is the debug log of the pick happening ...\\n\\n18:19:03 Pick_It {exec pick +inbox -list -lbrace -lbrace -subject ftp -rbrace -rbrace} {4852-4852 -sequence mercury}\\n18:19:03 exec pick +inbox -list -lbrace -lbrace -subject ftp -rbrace -rbrace 4852-4852 -sequence mercury\\n18:19:04 Ftoc_PickMsgs {{1 hit}}\\n18:19:04 Marking 1 hits\\n18:19:04 tkerror: syntax error in expression \"int ...\\n\\nNote, if I run the pick command by hand ...\\n\\ndelta$ pick +inbox -list -lbrace -lbrace -subject ftp -rbrace -rbrace  4852-4852 -sequence mercury\\n1 hit\\n\\nThat\\'s where the \"1 hit\" comes from (obviously).  The version of nmh I\\'m\\nusing is ...\\n\\ndelta$ pick -version\\npick -- nmh-1.0.4 [compiled on fuchsia.cs.mu.OZ.AU at Sun Mar 17 14:55:56 ICT 2002]\\n\\nAnd the relevant part of my .mh_profile ...\\n\\ndelta$ mhparam pick\\n-seq sel -list\\n\\n\\nSince the pick command works, the sequence (actually, both of them, the\\none that\\'s explicit on the command line, from the search popup, and the\\none that comes from .mh_profile) do get created.\\n\\nkre\\n\\nps: this is still using the version of the code form a day ago, I haven\\'t\\nbeen able to reach the cvs repository today (local routing issue I think).\\n\\n\\n\\n_______________________________________________\\nExmh-workers mailing list\\nExmh-workers@redhat.com\\nhttps://listman.redhat.com/mailman/listinfo/exmh-workers'"
            ],
            "application/vnd.google.colaboratory.intrinsic+json": {
              "type": "string"
            }
          },
          "metadata": {},
          "execution_count": 10
        }
      ]
    },
    {
      "cell_type": "code",
      "source": [
        "def get_email_structure(email):\n",
        "    if isinstance(email, str):\n",
        "        return email\n",
        "    payload = email.get_payload()\n",
        "    if isinstance(payload, list):\n",
        "        return \"multipart({})\".format(\", \".join([\n",
        "            get_email_structure(sub_email)\n",
        "            for sub_email in payload\n",
        "        ]))\n",
        "    else:\n",
        "        return email.get_content_type()"
      ],
      "metadata": {
        "id": "O7zAX897bhCz"
      },
      "execution_count": null,
      "outputs": []
    },
    {
      "cell_type": "code",
      "source": [
        "from collections import Counter\n",
        "\n",
        "def structures_counter(emails):\n",
        "    structures = Counter()\n",
        "    for email in emails:\n",
        "        structure = get_email_structure(email)\n",
        "        structures[structure] += 1\n",
        "    return structures"
      ],
      "metadata": {
        "id": "VqrYXjQKcklV"
      },
      "execution_count": null,
      "outputs": []
    },
    {
      "cell_type": "code",
      "source": [
        "structures_counter(ham_emails).most_common()"
      ],
      "metadata": {
        "colab": {
          "base_uri": "https://localhost:8080/"
        },
        "id": "jKBGWzL8cntf",
        "outputId": "1ca04abf-b3a0-4baf-993f-692c9d2e4e0c"
      },
      "execution_count": null,
      "outputs": [
        {
          "output_type": "execute_result",
          "data": {
            "text/plain": [
              "[('text/plain', 2408),\n",
              " ('multipart(text/plain, application/pgp-signature)', 66),\n",
              " ('multipart(text/plain, text/html)', 8),\n",
              " ('multipart(text/plain, text/plain)', 4),\n",
              " ('multipart(text/plain)', 3),\n",
              " ('multipart(text/plain, application/octet-stream)', 2),\n",
              " ('multipart(text/plain, text/enriched)', 1),\n",
              " ('multipart(text/plain, application/ms-tnef, text/plain)', 1),\n",
              " ('multipart(multipart(text/plain, text/plain, text/plain), application/pgp-signature)',\n",
              "  1),\n",
              " ('multipart(text/plain, video/mng)', 1),\n",
              " ('multipart(text/plain, multipart(text/plain))', 1),\n",
              " ('multipart(text/plain, application/x-pkcs7-signature)', 1),\n",
              " ('multipart(text/plain, multipart(text/plain, text/plain), text/rfc822-headers)',\n",
              "  1),\n",
              " ('multipart(text/plain, multipart(text/plain, text/plain), multipart(multipart(text/plain, application/x-pkcs7-signature)))',\n",
              "  1),\n",
              " ('multipart(text/plain, application/x-java-applet)', 1)]"
            ]
          },
          "metadata": {},
          "execution_count": 13
        }
      ]
    },
    {
      "cell_type": "code",
      "source": [
        "structures_counter(spam_emails).most_common()"
      ],
      "metadata": {
        "colab": {
          "base_uri": "https://localhost:8080/"
        },
        "id": "Mqgtwn1Fcr8C",
        "outputId": "810d7938-d451-4c80-98af-13e3455d5c24"
      },
      "execution_count": null,
      "outputs": [
        {
          "output_type": "execute_result",
          "data": {
            "text/plain": [
              "[('text/plain', 218),\n",
              " ('text/html', 183),\n",
              " ('multipart(text/plain, text/html)', 45),\n",
              " ('multipart(text/html)', 20),\n",
              " ('multipart(text/plain)', 19),\n",
              " ('multipart(multipart(text/html))', 5),\n",
              " ('multipart(text/plain, image/jpeg)', 3),\n",
              " ('multipart(text/html, application/octet-stream)', 2),\n",
              " ('multipart(text/plain, application/octet-stream)', 1),\n",
              " ('multipart(text/html, text/plain)', 1),\n",
              " ('multipart(multipart(text/html), application/octet-stream, image/jpeg)', 1),\n",
              " ('multipart(multipart(text/plain, text/html), image/gif)', 1),\n",
              " ('multipart/alternative', 1)]"
            ]
          },
          "metadata": {},
          "execution_count": 14
        }
      ]
    },
    {
      "cell_type": "code",
      "source": [
        "for header, value in spam_emails[0].items():\n",
        "    print(header,\":\",value)"
      ],
      "metadata": {
        "colab": {
          "base_uri": "https://localhost:8080/"
        },
        "id": "_SnjzTrxct6C",
        "outputId": "efc4842c-dba2-4db0-ba32-a9d7ac0ce4ab"
      },
      "execution_count": null,
      "outputs": [
        {
          "output_type": "stream",
          "name": "stdout",
          "text": [
            "Return-Path : <12a1mailbot1@web.de>\n",
            "Delivered-To : zzzz@localhost.spamassassin.taint.org\n",
            "Received : from localhost (localhost [127.0.0.1])\tby phobos.labs.spamassassin.taint.org (Postfix) with ESMTP id 136B943C32\tfor <zzzz@localhost>; Thu, 22 Aug 2002 08:17:21 -0400 (EDT)\n",
            "Received : from mail.webnote.net [193.120.211.219]\tby localhost with POP3 (fetchmail-5.9.0)\tfor zzzz@localhost (single-drop); Thu, 22 Aug 2002 13:17:21 +0100 (IST)\n",
            "Received : from dd_it7 ([210.97.77.167])\tby webnote.net (8.9.3/8.9.3) with ESMTP id NAA04623\tfor <zzzz@spamassassin.taint.org>; Thu, 22 Aug 2002 13:09:41 +0100\n",
            "From : 12a1mailbot1@web.de\n",
            "Received : from r-smtp.korea.com - 203.122.2.197 by dd_it7  with Microsoft SMTPSVC(5.5.1775.675.6);\t Sat, 24 Aug 2002 09:42:10 +0900\n",
            "To : dcek1a1@netsgo.com\n",
            "Subject : Life Insurance - Why Pay More?\n",
            "Date : Wed, 21 Aug 2002 20:31:57 -1600\n",
            "MIME-Version : 1.0\n",
            "Message-ID : <0103c1042001882DD_IT7@dd_it7>\n",
            "Content-Type : text/html; charset=\"iso-8859-1\"\n",
            "Content-Transfer-Encoding : quoted-printable\n"
          ]
        }
      ]
    },
    {
      "cell_type": "code",
      "source": [
        "for header, value in ham_emails[0].items():\n",
        "    print(header,\":\",value)"
      ],
      "metadata": {
        "colab": {
          "base_uri": "https://localhost:8080/"
        },
        "id": "KW-gz4JXc0Do",
        "outputId": "f7b8de7a-4b8e-484a-8ed5-15a335701b3e"
      },
      "execution_count": null,
      "outputs": [
        {
          "output_type": "stream",
          "name": "stdout",
          "text": [
            "Return-Path : <exmh-workers-admin@spamassassin.taint.org>\n",
            "Delivered-To : zzzz@localhost.netnoteinc.com\n",
            "Received : from localhost (localhost [127.0.0.1])\tby phobos.labs.netnoteinc.com (Postfix) with ESMTP id D03E543C36\tfor <zzzz@localhost>; Thu, 22 Aug 2002 07:36:16 -0400 (EDT)\n",
            "Received : from phobos [127.0.0.1]\tby localhost with IMAP (fetchmail-5.9.0)\tfor zzzz@localhost (single-drop); Thu, 22 Aug 2002 12:36:16 +0100 (IST)\n",
            "Received : from listman.spamassassin.taint.org (listman.spamassassin.taint.org [66.187.233.211]) by    dogma.slashnull.org (8.11.6/8.11.6) with ESMTP id g7MBYrZ04811 for    <zzzz-exmh@spamassassin.taint.org>; Thu, 22 Aug 2002 12:34:53 +0100\n",
            "Received : from listman.spamassassin.taint.org (localhost.localdomain [127.0.0.1]) by    listman.redhat.com (Postfix) with ESMTP id 8386540858; Thu, 22 Aug 2002    07:35:02 -0400 (EDT)\n",
            "Delivered-To : exmh-workers@listman.spamassassin.taint.org\n",
            "Received : from int-mx1.corp.spamassassin.taint.org (int-mx1.corp.spamassassin.taint.org    [172.16.52.254]) by listman.redhat.com (Postfix) with ESMTP id 10CF8406D7    for <exmh-workers@listman.redhat.com>; Thu, 22 Aug 2002 07:34:10 -0400    (EDT)\n",
            "Received : (from mail@localhost) by int-mx1.corp.spamassassin.taint.org (8.11.6/8.11.6)    id g7MBY7g11259 for exmh-workers@listman.redhat.com; Thu, 22 Aug 2002    07:34:07 -0400\n",
            "Received : from mx1.spamassassin.taint.org (mx1.spamassassin.taint.org [172.16.48.31]) by    int-mx1.corp.redhat.com (8.11.6/8.11.6) with SMTP id g7MBY7Y11255 for    <exmh-workers@redhat.com>; Thu, 22 Aug 2002 07:34:07 -0400\n",
            "Received : from ratree.psu.ac.th ([202.28.97.6]) by mx1.spamassassin.taint.org    (8.11.6/8.11.6) with SMTP id g7MBIhl25223 for <exmh-workers@redhat.com>;    Thu, 22 Aug 2002 07:18:55 -0400\n",
            "Received : from delta.cs.mu.OZ.AU (delta.coe.psu.ac.th [172.30.0.98]) by    ratree.psu.ac.th (8.11.6/8.11.6) with ESMTP id g7MBWel29762;    Thu, 22 Aug 2002 18:32:40 +0700 (ICT)\n",
            "Received : from munnari.OZ.AU (localhost [127.0.0.1]) by delta.cs.mu.OZ.AU    (8.11.6/8.11.6) with ESMTP id g7MBQPW13260; Thu, 22 Aug 2002 18:26:25    +0700 (ICT)\n",
            "From : Robert Elz <kre@munnari.OZ.AU>\n",
            "To : Chris Garrigues <cwg-dated-1030377287.06fa6d@DeepEddy.Com>\n",
            "Cc : exmh-workers@spamassassin.taint.org\n",
            "Subject : Re: New Sequences Window\n",
            "In-Reply-To : <1029945287.4797.TMDA@deepeddy.vircio.com>\n",
            "References : <1029945287.4797.TMDA@deepeddy.vircio.com>    <1029882468.3116.TMDA@deepeddy.vircio.com> <9627.1029933001@munnari.OZ.AU>    <1029943066.26919.TMDA@deepeddy.vircio.com>    <1029944441.398.TMDA@deepeddy.vircio.com>\n",
            "MIME-Version : 1.0\n",
            "Content-Type : text/plain; charset=\"us-ascii\"\n",
            "Message-Id : <13258.1030015585@munnari.OZ.AU>\n",
            "X-Loop : exmh-workers@spamassassin.taint.org\n",
            "Sender : exmh-workers-admin@spamassassin.taint.org\n",
            "Errors-To : exmh-workers-admin@spamassassin.taint.org\n",
            "X-Beenthere : exmh-workers@spamassassin.taint.org\n",
            "X-Mailman-Version : 2.0.1\n",
            "Precedence : bulk\n",
            "List-Help : <mailto:exmh-workers-request@spamassassin.taint.org?subject=help>\n",
            "List-Post : <mailto:exmh-workers@spamassassin.taint.org>\n",
            "List-Subscribe : <https://listman.spamassassin.taint.org/mailman/listinfo/exmh-workers>,    <mailto:exmh-workers-request@redhat.com?subject=subscribe>\n",
            "List-Id : Discussion list for EXMH developers <exmh-workers.spamassassin.taint.org>\n",
            "List-Unsubscribe : <https://listman.spamassassin.taint.org/mailman/listinfo/exmh-workers>,    <mailto:exmh-workers-request@redhat.com?subject=unsubscribe>\n",
            "List-Archive : <https://listman.spamassassin.taint.org/mailman/private/exmh-workers/>\n",
            "Date : Thu, 22 Aug 2002 18:26:25 +0700\n"
          ]
        }
      ]
    },
    {
      "cell_type": "code",
      "source": [
        "spam_emails[0][\"Subject\"]"
      ],
      "metadata": {
        "colab": {
          "base_uri": "https://localhost:8080/",
          "height": 35
        },
        "id": "K2FoXBMTc3zs",
        "outputId": "9febd8b7-ea79-420c-f4c9-9253b624c2d9"
      },
      "execution_count": null,
      "outputs": [
        {
          "output_type": "execute_result",
          "data": {
            "text/plain": [
              "'Life Insurance - Why Pay More?'"
            ],
            "application/vnd.google.colaboratory.intrinsic+json": {
              "type": "string"
            }
          },
          "metadata": {},
          "execution_count": 17
        }
      ]
    },
    {
      "cell_type": "code",
      "source": [
        "import numpy as np\n",
        "from sklearn.model_selection import train_test_split\n",
        "\n",
        "X = np.array(ham_emails + spam_emails, dtype=object)\n",
        "y = np.array([0] * len(ham_emails) + [1] * len(spam_emails))\n",
        "\n",
        "X_train, X_test, y_train, y_test = train_test_split(X, y, test_size=0.2, random_state=42)"
      ],
      "metadata": {
        "id": "d-tWruXbdBiV"
      },
      "execution_count": null,
      "outputs": []
    },
    {
      "cell_type": "code",
      "source": [
        "X.shape"
      ],
      "metadata": {
        "colab": {
          "base_uri": "https://localhost:8080/"
        },
        "id": "Hv0xIpqHdQR7",
        "outputId": "dcb616ab-66a8-4717-a07e-b3d0337715eb"
      },
      "execution_count": null,
      "outputs": [
        {
          "output_type": "execute_result",
          "data": {
            "text/plain": [
              "(3000,)"
            ]
          },
          "metadata": {},
          "execution_count": 19
        }
      ]
    },
    {
      "cell_type": "code",
      "source": [
        "y.shape"
      ],
      "metadata": {
        "colab": {
          "base_uri": "https://localhost:8080/"
        },
        "id": "fkCPfnrOdU-u",
        "outputId": "394d3e9f-7d80-4caf-d1d9-da38497106a0"
      },
      "execution_count": null,
      "outputs": [
        {
          "output_type": "execute_result",
          "data": {
            "text/plain": [
              "(3000,)"
            ]
          },
          "metadata": {},
          "execution_count": 20
        }
      ]
    },
    {
      "cell_type": "code",
      "source": [
        "X[2500]['Subject']"
      ],
      "metadata": {
        "colab": {
          "base_uri": "https://localhost:8080/",
          "height": 35
        },
        "id": "OeDkIi2VdfoR",
        "outputId": "d904f912-5334-496e-ddf5-28b3e8ef0ada"
      },
      "execution_count": null,
      "outputs": [
        {
          "output_type": "execute_result",
          "data": {
            "text/plain": [
              "'Life Insurance - Why Pay More?'"
            ],
            "application/vnd.google.colaboratory.intrinsic+json": {
              "type": "string"
            }
          },
          "metadata": {},
          "execution_count": 21
        }
      ]
    },
    {
      "cell_type": "code",
      "source": [
        "print(spam_emails[0].get_payload().strip())"
      ],
      "metadata": {
        "colab": {
          "base_uri": "https://localhost:8080/"
        },
        "id": "yC72ORWqdwpr",
        "outputId": "6efad2ff-756e-468a-c948-f28cc87f6ebf"
      },
      "execution_count": null,
      "outputs": [
        {
          "output_type": "stream",
          "name": "stdout",
          "text": [
            "<!DOCTYPE HTML PUBLIC \"-//W3C//DTD HTML 4.0 Transitional//EN\">\n",
            "<HTML><HEAD>\n",
            "<META content=3D\"text/html; charset=3Dwindows-1252\" http-equiv=3DContent-T=\n",
            "ype>\n",
            "<META content=3D\"MSHTML 5.00.2314.1000\" name=3DGENERATOR></HEAD>\n",
            "<BODY><!-- Inserted by Calypso -->\n",
            "<TABLE border=3D0 cellPadding=3D0 cellSpacing=3D2 id=3D_CalyPrintHeader_ r=\n",
            "ules=3Dnone \n",
            "style=3D\"COLOR: black; DISPLAY: none\" width=3D\"100%\">\n",
            "  <TBODY>\n",
            "  <TR>\n",
            "    <TD colSpan=3D3>\n",
            "      <HR color=3Dblack noShade SIZE=3D1>\n",
            "    </TD></TR></TD></TR>\n",
            "  <TR>\n",
            "    <TD colSpan=3D3>\n",
            "      <HR color=3Dblack noShade SIZE=3D1>\n",
            "    </TD></TR></TBODY></TABLE><!-- End Calypso --><!-- Inserted by Calypso=\n",
            " --><FONT \n",
            "color=3D#000000 face=3DVERDANA,ARIAL,HELVETICA size=3D-2><BR></FONT></TD><=\n",
            "/TR></TABLE><!-- End Calypso --><FONT color=3D#ff0000 \n",
            "face=3D\"Copperplate Gothic Bold\" size=3D5 PTSIZE=3D\"10\">\n",
            "<CENTER>Save up to 70% on Life Insurance.</CENTER></FONT><FONT color=3D#ff=\n",
            "0000 \n",
            "face=3D\"Copperplate Gothic Bold\" size=3D5 PTSIZE=3D\"10\">\n",
            "<CENTER>Why Spend More Than You Have To?\n",
            "<CENTER><FONT color=3D#ff0000 face=3D\"Copperplate Gothic Bold\" size=3D5 PT=\n",
            "SIZE=3D\"10\">\n",
            "<CENTER>Life Quote Savings\n",
            "<CENTER>\n",
            "<P align=3Dleft></P>\n",
            "<P align=3Dleft></P></FONT></U></I></B><BR></FONT></U></B></U></I>\n",
            "<P></P>\n",
            "<CENTER>\n",
            "<TABLE border=3D0 borderColor=3D#111111 cellPadding=3D0 cellSpacing=3D0 wi=\n",
            "dth=3D650>\n",
            "  <TBODY></TBODY></TABLE>\n",
            "<TABLE border=3D0 borderColor=3D#111111 cellPadding=3D5 cellSpacing=3D0 wi=\n",
            "dth=3D650>\n",
            "  <TBODY>\n",
            "  <TR>\n",
            "    <TD colSpan=3D2 width=3D\"35%\"><B><FONT face=3DVerdana size=3D4>Ensurin=\n",
            "g your \n",
            "      family's financial security is very important. Life Quote Savings ma=\n",
            "kes \n",
            "      buying life insurance simple and affordable. We Provide FREE Access =\n",
            "to The \n",
            "      Very Best Companies and The Lowest Rates.</FONT></B></TD></TR>\n",
            "  <TR>\n",
            "    <TD align=3Dmiddle vAlign=3Dtop width=3D\"18%\">\n",
            "      <TABLE borderColor=3D#111111 width=3D\"100%\">\n",
            "        <TBODY>\n",
            "        <TR>\n",
            "          <TD style=3D\"PADDING-LEFT: 5px; PADDING-RIGHT: 5px\" width=3D\"100=\n",
            "%\"><FONT \n",
            "            face=3DVerdana size=3D4><B>Life Quote Savings</B> is FAST, EAS=\n",
            "Y and \n",
            "            SAVES you money! Let us help you get started with the best val=\n",
            "ues in \n",
            "            the country on new coverage. You can SAVE hundreds or even tho=\n",
            "usands \n",
            "            of dollars by requesting a FREE quote from Lifequote Savings. =\n",
            "Our \n",
            "            service will take you less than 5 minutes to complete. Shop an=\n",
            "d \n",
            "            compare. SAVE up to 70% on all types of Life insurance! \n",
            "</FONT></TD></TR>\n",
            "        <TR><BR><BR>\n",
            "          <TD height=3D50 style=3D\"PADDING-LEFT: 5px; PADDING-RIGHT: 5px\" \n",
            "          width=3D\"100%\">\n",
            "            <P align=3Dcenter><B><FONT face=3DVerdana size=3D5><A \n",
            "            href=3D\"http://website.e365.cc/savequote/\">Click Here For Your=\n",
            " \n",
            "            Free Quote!</A></FONT></B></P></TD>\n",
            "          <P><FONT face=3DVerdana size=3D4><STRONG>\n",
            "          <CENTER>Protecting your family is the best investment you'll eve=\n",
            "r \n",
            "          make!<BR></B></TD></TR>\n",
            "        <TR><BR><BR></STRONG></FONT></TD></TR></TD></TR>\n",
            "        <TR></TR></TBODY></TABLE>\n",
            "      <P align=3Dleft><FONT face=3D\"Arial, Helvetica, sans-serif\" size=3D2=\n",
            "></FONT></P>\n",
            "      <P></P>\n",
            "      <CENTER><BR><BR><BR>\n",
            "      <P></P>\n",
            "      <P align=3Dleft><BR></B><BR><BR><BR><BR></P>\n",
            "      <P align=3Dcenter><BR></P>\n",
            "      <P align=3Dleft><BR></B><BR><BR></FONT>If you are in receipt of this=\n",
            " email \n",
            "      in error and/or wish to be removed from our list, <A \n",
            "      href=3D\"mailto:coins@btamail.net.cn\">PLEASE CLICK HERE</A> AND TYPE =\n",
            "REMOVE. If you \n",
            "      reside in any state which prohibits e-mail solicitations for insuran=\n",
            "ce, \n",
            "      please disregard this \n",
            "      email.<BR></FONT><BR><BR><BR><BR><BR><BR><BR><BR><BR><BR><BR><BR><BR=\n",
            "><BR><BR><BR></FONT></P></CENTER></CENTER></TR></TBODY></TABLE></CENTER></=\n",
            "CENTER></CENTER></CENTER></CENTER></BODY></HTML>\n"
          ]
        }
      ]
    },
    {
      "cell_type": "code",
      "source": [
        "common_headers = set()\n",
        "\n",
        "for email in X:\n",
        "    headers = email.keys()\n",
        "    if not common_headers:\n",
        "        common_headers = set(headers)\n",
        "    else:\n",
        "        common_headers = common_headers.intersection(headers)\n",
        "\n",
        "print(\"Common Headers:\")\n",
        "for header in common_headers:\n",
        "    print(header)\n"
      ],
      "metadata": {
        "colab": {
          "base_uri": "https://localhost:8080/"
        },
        "id": "ALa8gYfqkLMv",
        "outputId": "28fc662d-a312-404c-aad0-930eb648e5f9"
      },
      "execution_count": null,
      "outputs": [
        {
          "output_type": "stream",
          "name": "stdout",
          "text": [
            "Common Headers:\n",
            "From\n",
            "Date\n",
            "Subject\n"
          ]
        }
      ]
    },
    {
      "cell_type": "markdown",
      "source": [
        "only `Subject` is common so let's create a pandas dataframe using `Subject` and `Category` being *Spam*\n",
        "or *Ham* "
      ],
      "metadata": {
        "id": "qZBSXBADoSkf"
      }
    },
    {
      "cell_type": "code",
      "source": [
        "import pandas as pd\n",
        "\n",
        "data = {'Subject': [], 'Category': []}\n",
        "\n",
        "for email, label in zip(X, y):\n",
        "    subject = email.get('Subject', '')  # Retrieve the value of the 'Subject' header\n",
        "    data['Subject'].append(subject)\n",
        "    data['Category'].append(int(label))\n",
        "\n",
        "df = pd.DataFrame(data)\n"
      ],
      "metadata": {
        "id": "UzHee6KNoR1e"
      },
      "execution_count": null,
      "outputs": []
    },
    {
      "cell_type": "code",
      "source": [
        "df['Subject'][0]"
      ],
      "metadata": {
        "colab": {
          "base_uri": "https://localhost:8080/",
          "height": 35
        },
        "id": "MTd-ep_roE3r",
        "outputId": "512be91b-2d7a-46c2-ab56-f5a817d4c43c"
      },
      "execution_count": null,
      "outputs": [
        {
          "output_type": "execute_result",
          "data": {
            "text/plain": [
              "'Re: New Sequences Window'"
            ],
            "application/vnd.google.colaboratory.intrinsic+json": {
              "type": "string"
            }
          },
          "metadata": {},
          "execution_count": 25
        }
      ]
    },
    {
      "cell_type": "code",
      "source": [
        "df['Subject'] = df['Subject'].astype(str)\n"
      ],
      "metadata": {
        "id": "tDWZqT2AqHWo"
      },
      "execution_count": null,
      "outputs": []
    },
    {
      "cell_type": "code",
      "source": [
        "df['Subject'].dtype"
      ],
      "metadata": {
        "colab": {
          "base_uri": "https://localhost:8080/"
        },
        "id": "5-fhGQVKrQp3",
        "outputId": "19423d10-fceb-4529-9390-3cb55fb4e3dd"
      },
      "execution_count": null,
      "outputs": [
        {
          "output_type": "execute_result",
          "data": {
            "text/plain": [
              "dtype('O')"
            ]
          },
          "metadata": {},
          "execution_count": 28
        }
      ]
    },
    {
      "cell_type": "code",
      "source": [
        "df['Subject'] = df['Subject'].fillna('').astype(str)\n"
      ],
      "metadata": {
        "id": "MM_MNXV8rUBZ"
      },
      "execution_count": null,
      "outputs": []
    },
    {
      "cell_type": "code",
      "source": [
        "df['Subject'].dtype"
      ],
      "metadata": {
        "colab": {
          "base_uri": "https://localhost:8080/"
        },
        "id": "WdvL-G5ArwaH",
        "outputId": "d533fea4-3eb5-41b8-b93b-bfb732fc59e1"
      },
      "execution_count": null,
      "outputs": [
        {
          "output_type": "execute_result",
          "data": {
            "text/plain": [
              "dtype('O')"
            ]
          },
          "metadata": {},
          "execution_count": 30
        }
      ]
    },
    {
      "cell_type": "code",
      "source": [
        "df.info()"
      ],
      "metadata": {
        "colab": {
          "base_uri": "https://localhost:8080/"
        },
        "id": "bGAPkMzOrxhf",
        "outputId": "4941333a-1536-4e26-f2f9-1312135eb382"
      },
      "execution_count": null,
      "outputs": [
        {
          "output_type": "stream",
          "name": "stdout",
          "text": [
            "<class 'pandas.core.frame.DataFrame'>\n",
            "RangeIndex: 3000 entries, 0 to 2999\n",
            "Data columns (total 2 columns):\n",
            " #   Column    Non-Null Count  Dtype \n",
            "---  ------    --------------  ----- \n",
            " 0   Subject   3000 non-null   object\n",
            " 1   Category  3000 non-null   int64 \n",
            "dtypes: int64(1), object(1)\n",
            "memory usage: 47.0+ KB\n"
          ]
        }
      ]
    },
    {
      "cell_type": "code",
      "source": [
        "df.head(20)"
      ],
      "metadata": {
        "colab": {
          "base_uri": "https://localhost:8080/",
          "height": 538
        },
        "id": "LQ59fsfur0-u",
        "outputId": "3cbad5b4-dbd1-4f46-bca2-dbc8397faad7"
      },
      "execution_count": null,
      "outputs": [
        {
          "output_type": "execute_result",
          "data": {
            "text/plain": [
              "                                              Subject  Category\n",
              "0                            Re: New Sequences Window         0\n",
              "1                           [zzzzteana] RE: Alexander         0\n",
              "2                           [zzzzteana] Moscow bomber         0\n",
              "3               [IRR] Klez: The Virus That  Won't Die         0\n",
              "4      Re: [zzzzteana] Nothing like mama used to make         0\n",
              "5      Re: [zzzzteana] Nothing like mama used to make         0\n",
              "6     [zzzzteana] Playboy wants to go out with a bang         0\n",
              "7      Re: [zzzzteana] Nothing like mama used to make         0\n",
              "8                    [zzzzteana] Meaningful sentences         0\n",
              "9                [SAtalk] SA CGI Configurator Scripts         0\n",
              "10    [SAdev] Interesting approach to Spam handling..         0\n",
              "11    Re: [SAdev] Live Rule Updates after Release ???         0\n",
              "12      [ILUG] Re: Problems with RAID1 on cobalt raq3         0\n",
              "13                           Re: New Sequences Window         0\n",
              "14                                  The case for spam         0\n",
              "15                          [IIU] Eircom aDSL Nat'ing         0\n",
              "16  [zzzzteana] Re: Australian Catholic Kiddie Per...         0\n",
              "17                           RE: [ILUG] Sun Solaris..         0\n",
              "18                  [zzzzteana] Which Muppet Are You?         0\n",
              "19                               [ILUG] Sun Solaris..         0"
            ],
            "text/html": [
              "\n",
              "  <div id=\"df-89f25065-7e5b-4f1d-af39-ab52771a996d\">\n",
              "    <div class=\"colab-df-container\">\n",
              "      <div>\n",
              "<style scoped>\n",
              "    .dataframe tbody tr th:only-of-type {\n",
              "        vertical-align: middle;\n",
              "    }\n",
              "\n",
              "    .dataframe tbody tr th {\n",
              "        vertical-align: top;\n",
              "    }\n",
              "\n",
              "    .dataframe thead th {\n",
              "        text-align: right;\n",
              "    }\n",
              "</style>\n",
              "<table border=\"1\" class=\"dataframe\">\n",
              "  <thead>\n",
              "    <tr style=\"text-align: right;\">\n",
              "      <th></th>\n",
              "      <th>Subject</th>\n",
              "      <th>Category</th>\n",
              "    </tr>\n",
              "  </thead>\n",
              "  <tbody>\n",
              "    <tr>\n",
              "      <th>0</th>\n",
              "      <td>Re: New Sequences Window</td>\n",
              "      <td>0</td>\n",
              "    </tr>\n",
              "    <tr>\n",
              "      <th>1</th>\n",
              "      <td>[zzzzteana] RE: Alexander</td>\n",
              "      <td>0</td>\n",
              "    </tr>\n",
              "    <tr>\n",
              "      <th>2</th>\n",
              "      <td>[zzzzteana] Moscow bomber</td>\n",
              "      <td>0</td>\n",
              "    </tr>\n",
              "    <tr>\n",
              "      <th>3</th>\n",
              "      <td>[IRR] Klez: The Virus That  Won't Die</td>\n",
              "      <td>0</td>\n",
              "    </tr>\n",
              "    <tr>\n",
              "      <th>4</th>\n",
              "      <td>Re: [zzzzteana] Nothing like mama used to make</td>\n",
              "      <td>0</td>\n",
              "    </tr>\n",
              "    <tr>\n",
              "      <th>5</th>\n",
              "      <td>Re: [zzzzteana] Nothing like mama used to make</td>\n",
              "      <td>0</td>\n",
              "    </tr>\n",
              "    <tr>\n",
              "      <th>6</th>\n",
              "      <td>[zzzzteana] Playboy wants to go out with a bang</td>\n",
              "      <td>0</td>\n",
              "    </tr>\n",
              "    <tr>\n",
              "      <th>7</th>\n",
              "      <td>Re: [zzzzteana] Nothing like mama used to make</td>\n",
              "      <td>0</td>\n",
              "    </tr>\n",
              "    <tr>\n",
              "      <th>8</th>\n",
              "      <td>[zzzzteana] Meaningful sentences</td>\n",
              "      <td>0</td>\n",
              "    </tr>\n",
              "    <tr>\n",
              "      <th>9</th>\n",
              "      <td>[SAtalk] SA CGI Configurator Scripts</td>\n",
              "      <td>0</td>\n",
              "    </tr>\n",
              "    <tr>\n",
              "      <th>10</th>\n",
              "      <td>[SAdev] Interesting approach to Spam handling..</td>\n",
              "      <td>0</td>\n",
              "    </tr>\n",
              "    <tr>\n",
              "      <th>11</th>\n",
              "      <td>Re: [SAdev] Live Rule Updates after Release ???</td>\n",
              "      <td>0</td>\n",
              "    </tr>\n",
              "    <tr>\n",
              "      <th>12</th>\n",
              "      <td>[ILUG] Re: Problems with RAID1 on cobalt raq3</td>\n",
              "      <td>0</td>\n",
              "    </tr>\n",
              "    <tr>\n",
              "      <th>13</th>\n",
              "      <td>Re: New Sequences Window</td>\n",
              "      <td>0</td>\n",
              "    </tr>\n",
              "    <tr>\n",
              "      <th>14</th>\n",
              "      <td>The case for spam</td>\n",
              "      <td>0</td>\n",
              "    </tr>\n",
              "    <tr>\n",
              "      <th>15</th>\n",
              "      <td>[IIU] Eircom aDSL Nat'ing</td>\n",
              "      <td>0</td>\n",
              "    </tr>\n",
              "    <tr>\n",
              "      <th>16</th>\n",
              "      <td>[zzzzteana] Re: Australian Catholic Kiddie Per...</td>\n",
              "      <td>0</td>\n",
              "    </tr>\n",
              "    <tr>\n",
              "      <th>17</th>\n",
              "      <td>RE: [ILUG] Sun Solaris..</td>\n",
              "      <td>0</td>\n",
              "    </tr>\n",
              "    <tr>\n",
              "      <th>18</th>\n",
              "      <td>[zzzzteana] Which Muppet Are You?</td>\n",
              "      <td>0</td>\n",
              "    </tr>\n",
              "    <tr>\n",
              "      <th>19</th>\n",
              "      <td>[ILUG] Sun Solaris..</td>\n",
              "      <td>0</td>\n",
              "    </tr>\n",
              "  </tbody>\n",
              "</table>\n",
              "</div>\n",
              "      <button class=\"colab-df-convert\" onclick=\"convertToInteractive('df-89f25065-7e5b-4f1d-af39-ab52771a996d')\"\n",
              "              title=\"Convert this dataframe to an interactive table.\"\n",
              "              style=\"display:none;\">\n",
              "        \n",
              "  <svg xmlns=\"http://www.w3.org/2000/svg\" height=\"24px\"viewBox=\"0 0 24 24\"\n",
              "       width=\"24px\">\n",
              "    <path d=\"M0 0h24v24H0V0z\" fill=\"none\"/>\n",
              "    <path d=\"M18.56 5.44l.94 2.06.94-2.06 2.06-.94-2.06-.94-.94-2.06-.94 2.06-2.06.94zm-11 1L8.5 8.5l.94-2.06 2.06-.94-2.06-.94L8.5 2.5l-.94 2.06-2.06.94zm10 10l.94 2.06.94-2.06 2.06-.94-2.06-.94-.94-2.06-.94 2.06-2.06.94z\"/><path d=\"M17.41 7.96l-1.37-1.37c-.4-.4-.92-.59-1.43-.59-.52 0-1.04.2-1.43.59L10.3 9.45l-7.72 7.72c-.78.78-.78 2.05 0 2.83L4 21.41c.39.39.9.59 1.41.59.51 0 1.02-.2 1.41-.59l7.78-7.78 2.81-2.81c.8-.78.8-2.07 0-2.86zM5.41 20L4 18.59l7.72-7.72 1.47 1.35L5.41 20z\"/>\n",
              "  </svg>\n",
              "      </button>\n",
              "      \n",
              "  <style>\n",
              "    .colab-df-container {\n",
              "      display:flex;\n",
              "      flex-wrap:wrap;\n",
              "      gap: 12px;\n",
              "    }\n",
              "\n",
              "    .colab-df-convert {\n",
              "      background-color: #E8F0FE;\n",
              "      border: none;\n",
              "      border-radius: 50%;\n",
              "      cursor: pointer;\n",
              "      display: none;\n",
              "      fill: #1967D2;\n",
              "      height: 32px;\n",
              "      padding: 0 0 0 0;\n",
              "      width: 32px;\n",
              "    }\n",
              "\n",
              "    .colab-df-convert:hover {\n",
              "      background-color: #E2EBFA;\n",
              "      box-shadow: 0px 1px 2px rgba(60, 64, 67, 0.3), 0px 1px 3px 1px rgba(60, 64, 67, 0.15);\n",
              "      fill: #174EA6;\n",
              "    }\n",
              "\n",
              "    [theme=dark] .colab-df-convert {\n",
              "      background-color: #3B4455;\n",
              "      fill: #D2E3FC;\n",
              "    }\n",
              "\n",
              "    [theme=dark] .colab-df-convert:hover {\n",
              "      background-color: #434B5C;\n",
              "      box-shadow: 0px 1px 3px 1px rgba(0, 0, 0, 0.15);\n",
              "      filter: drop-shadow(0px 1px 2px rgba(0, 0, 0, 0.3));\n",
              "      fill: #FFFFFF;\n",
              "    }\n",
              "  </style>\n",
              "\n",
              "      <script>\n",
              "        const buttonEl =\n",
              "          document.querySelector('#df-89f25065-7e5b-4f1d-af39-ab52771a996d button.colab-df-convert');\n",
              "        buttonEl.style.display =\n",
              "          google.colab.kernel.accessAllowed ? 'block' : 'none';\n",
              "\n",
              "        async function convertToInteractive(key) {\n",
              "          const element = document.querySelector('#df-89f25065-7e5b-4f1d-af39-ab52771a996d');\n",
              "          const dataTable =\n",
              "            await google.colab.kernel.invokeFunction('convertToInteractive',\n",
              "                                                     [key], {});\n",
              "          if (!dataTable) return;\n",
              "\n",
              "          const docLinkHtml = 'Like what you see? Visit the ' +\n",
              "            '<a target=\"_blank\" href=https://colab.research.google.com/notebooks/data_table.ipynb>data table notebook</a>'\n",
              "            + ' to learn more about interactive tables.';\n",
              "          element.innerHTML = '';\n",
              "          dataTable['output_type'] = 'display_data';\n",
              "          await google.colab.output.renderOutput(dataTable, element);\n",
              "          const docLink = document.createElement('div');\n",
              "          docLink.innerHTML = docLinkHtml;\n",
              "          element.appendChild(docLink);\n",
              "        }\n",
              "      </script>\n",
              "    </div>\n",
              "  </div>\n",
              "  "
            ]
          },
          "metadata": {},
          "execution_count": 32
        }
      ]
    },
    {
      "cell_type": "code",
      "source": [
        "from sklearn.feature_extraction.text import CountVectorizer\n",
        "from sklearn.model_selection import train_test_split\n",
        "from sklearn.linear_model import LogisticRegression\n",
        "\n",
        "# Convert the text data into numerical features\n",
        "vectorizer = CountVectorizer()\n",
        "x_column = vectorizer.fit_transform(df['Subject'])\n",
        "\n",
        "# Split the data into training and testing sets\n",
        "X_train, X_test, y_train, y_test = train_test_split(x_column, df['Category'], test_size=0.2, random_state=42)\n",
        "\n",
        "# Train a logistic regression model\n",
        "model = LogisticRegression(solver=\"liblinear\", max_iter=1000, random_state=42)\n",
        "model.fit(X_train, y_train)\n",
        "\n",
        "# Evaluate the model\n",
        "accuracy = model.score(X_test, y_test)\n",
        "print('Accuracy:', accuracy)\n"
      ],
      "metadata": {
        "colab": {
          "base_uri": "https://localhost:8080/"
        },
        "id": "Zzs__vflr-Af",
        "outputId": "35833111-121b-4a2b-d46a-72724adc9585"
      },
      "execution_count": null,
      "outputs": [
        {
          "output_type": "stream",
          "name": "stdout",
          "text": [
            "Accuracy: 0.9166666666666666\n"
          ]
        }
      ]
    },
    {
      "cell_type": "code",
      "source": [
        "from sklearn.model_selection import cross_val_score\n",
        "\n",
        "# Logistic Regression with different solvers\n",
        "solvers = [\"lbfgs\", \"liblinear\", \"newton-cg\"]\n",
        "for solver in solvers:\n",
        "    log_clf = LogisticRegression(solver=solver, max_iter=1000, random_state=42)\n",
        "    score = cross_val_score(log_clf, X_train, y_train, cv=3, verbose=3)\n",
        "    print(f\"Logistic Regression (Solver: {solver}): Mean Score = {score.mean()}\")\n",
        "\n",
        "\n",
        "score = cross_val_score(log_clf, X_train, y_train, cv=3, verbose=3)\n",
        "print(f\"Mean Score = {score.mean()}\")"
      ],
      "metadata": {
        "colab": {
          "base_uri": "https://localhost:8080/"
        },
        "id": "v63TBuwxssTL",
        "outputId": "df282b6e-ad04-453a-e3a1-19596efd587e"
      },
      "execution_count": null,
      "outputs": [
        {
          "output_type": "stream",
          "name": "stderr",
          "text": [
            "[Parallel(n_jobs=1)]: Using backend SequentialBackend with 1 concurrent workers.\n",
            "[Parallel(n_jobs=1)]: Done   1 out of   1 | elapsed:    0.1s remaining:    0.0s\n"
          ]
        },
        {
          "output_type": "stream",
          "name": "stdout",
          "text": [
            "[CV] END ................................ score: (test=0.910) total time=   0.1s\n",
            "[CV] END ................................ score: (test=0.920) total time=   0.1s\n"
          ]
        },
        {
          "output_type": "stream",
          "name": "stderr",
          "text": [
            "[Parallel(n_jobs=1)]: Done   2 out of   2 | elapsed:    0.2s remaining:    0.0s\n",
            "[Parallel(n_jobs=1)]: Done   3 out of   3 | elapsed:    0.3s finished\n",
            "[Parallel(n_jobs=1)]: Using backend SequentialBackend with 1 concurrent workers.\n",
            "[Parallel(n_jobs=1)]: Done   1 out of   1 | elapsed:    0.0s remaining:    0.0s\n",
            "[Parallel(n_jobs=1)]: Done   2 out of   2 | elapsed:    0.1s remaining:    0.0s\n",
            "[Parallel(n_jobs=1)]: Done   3 out of   3 | elapsed:    0.1s finished\n",
            "[Parallel(n_jobs=1)]: Using backend SequentialBackend with 1 concurrent workers.\n"
          ]
        },
        {
          "output_type": "stream",
          "name": "stdout",
          "text": [
            "[CV] END ................................ score: (test=0.906) total time=   0.1s\n",
            "Logistic Regression (Solver: lbfgs): Mean Score = 0.9120833333333334\n",
            "[CV] END ................................ score: (test=0.909) total time=   0.0s\n",
            "[CV] END ................................ score: (test=0.920) total time=   0.0s\n",
            "[CV] END ................................ score: (test=0.907) total time=   0.0s\n",
            "Logistic Regression (Solver: liblinear): Mean Score = 0.9120833333333334\n",
            "[CV] END ................................ score: (test=0.910) total time=   0.1s\n"
          ]
        },
        {
          "output_type": "stream",
          "name": "stderr",
          "text": [
            "[Parallel(n_jobs=1)]: Done   1 out of   1 | elapsed:    0.1s remaining:    0.0s\n",
            "[Parallel(n_jobs=1)]: Done   2 out of   2 | elapsed:    0.3s remaining:    0.0s\n"
          ]
        },
        {
          "output_type": "stream",
          "name": "stdout",
          "text": [
            "[CV] END ................................ score: (test=0.920) total time=   0.1s\n",
            "[CV] END ................................ score: (test=0.906) total time=   0.1s\n",
            "Logistic Regression (Solver: newton-cg): Mean Score = 0.9120833333333334\n"
          ]
        },
        {
          "output_type": "stream",
          "name": "stderr",
          "text": [
            "[Parallel(n_jobs=1)]: Done   3 out of   3 | elapsed:    0.4s finished\n",
            "[Parallel(n_jobs=1)]: Using backend SequentialBackend with 1 concurrent workers.\n",
            "[Parallel(n_jobs=1)]: Done   1 out of   1 | elapsed:    0.1s remaining:    0.0s\n"
          ]
        },
        {
          "output_type": "stream",
          "name": "stdout",
          "text": [
            "[CV] END ................................ score: (test=0.910) total time=   0.1s\n",
            "[CV] END ................................ score: (test=0.920) total time=   0.1s\n",
            "[CV] END ................................ score: (test=0.906) total time=   0.1s\n",
            "Mean Score = 0.9120833333333334\n"
          ]
        },
        {
          "output_type": "stream",
          "name": "stderr",
          "text": [
            "[Parallel(n_jobs=1)]: Done   2 out of   2 | elapsed:    0.3s remaining:    0.0s\n",
            "[Parallel(n_jobs=1)]: Done   3 out of   3 | elapsed:    0.4s finished\n"
          ]
        }
      ]
    },
    {
      "cell_type": "markdown",
      "source": [
        "**So if we do like this then the model is useless because subject matter varies for each mail as we use CounntVectorizer**\n"
      ],
      "metadata": {
        "id": "517LZohUuMa3"
      }
    },
    {
      "cell_type": "code",
      "source": [
        "from sklearn.metrics import precision_score, recall_score\n",
        "\n",
        "y_pred = model.predict(X_test)\n",
        "\n",
        "print(\"Precision: {:.2f}%\".format(100 * precision_score(y_test, y_pred)))\n",
        "print(\"Recall: {:.2f}%\".format(100 * recall_score(y_test, y_pred)))"
      ],
      "metadata": {
        "colab": {
          "base_uri": "https://localhost:8080/"
        },
        "id": "7AcYEwbztiHM",
        "outputId": "bc4055fb-0050-45c6-b969-a18370124cd0"
      },
      "execution_count": null,
      "outputs": [
        {
          "output_type": "stream",
          "name": "stdout",
          "text": [
            "Precision: 85.71%\n",
            "Recall: 56.84%\n"
          ]
        }
      ]
    },
    {
      "cell_type": "markdown",
      "source": [
        "**Let's use TFIDF**"
      ],
      "metadata": {
        "id": "EHU-mX9uvEMX"
      }
    },
    {
      "cell_type": "code",
      "source": [
        "from sklearn.feature_extraction.text import TfidfVectorizer\n",
        "from sklearn.model_selection import train_test_split\n",
        "from sklearn.linear_model import LogisticRegression\n",
        "from sklearn.metrics import precision_score, recall_score, accuracy_score\n",
        "# Convert the text data into numerical features using TF-IDF\n",
        "vectorizer = TfidfVectorizer()\n",
        "X_id = vectorizer.fit_transform(df['Subject'])\n",
        "\n",
        "# Split the data into training and testing sets\n",
        "X_train_1, X_test_1, y_train_1, y_test_1 = train_test_split(X_id, df['Category'], test_size=0.2, random_state=42)\n",
        "\n",
        "# Train a logistic regression model\n",
        "model = LogisticRegression(solver=\"liblinear\", max_iter=1000, random_state=42)\n",
        "model.fit(X_train_1, y_train_1)\n",
        "\n",
        "# Evaluate the model on itself first\n",
        "y_train_pr = model.predict(X_train_1)\n",
        "accuracy_t = accuracy_score(y_train_1, y_train_pr)\n",
        "print(\"Accuracy: {:.2f}%\".format(100 * accuracy_t))\n",
        "\n",
        "# Make predictions on the test set\n",
        "y_pred = model.predict(X_test_1)\n",
        "precision = precision_score(y_test_1, y_pred)\n",
        "recall = recall_score(y_test_1, y_pred)\n",
        "accuracy = accuracy_score(y_test_1, y_pred)\n",
        "\n",
        "print(\"Precision: {:.2f}%\".format(100 * precision))\n",
        "print(\"Recall: {:.2f}%\".format(100 * recall))\n",
        "print(\"Accuracy: {:.2f}%\".format(100 * accuracy))\n"
      ],
      "metadata": {
        "colab": {
          "base_uri": "https://localhost:8080/"
        },
        "id": "Ez-xRL5XuIq7",
        "outputId": "c6f3205a-1d17-4703-823c-f39e7e1f6df5"
      },
      "execution_count": null,
      "outputs": [
        {
          "output_type": "stream",
          "name": "stdout",
          "text": [
            "Accuracy: 91.38%\n",
            "Precision: 88.57%\n",
            "Recall: 32.63%\n",
            "Accuracy: 88.67%\n"
          ]
        }
      ]
    },
    {
      "cell_type": "markdown",
      "source": [
        "The precision, recall, and accuracy metrics provide insights into the performance of the model for the given classification task.\n",
        "\n",
        "`Precision: 88.57%`\n",
        "\n",
        "Precision is the ratio of true positive predictions to the total number of positive predictions made by the model. In this case, it indicates that out of all the predicted positive instances, approximately 88.57% of them are actually true positive instances. A higher precision value suggests that the model has a lower rate of false positive predictions.\n",
        "\n",
        "`Recall: 32.63%`\n",
        "\n",
        "Recall, also known as sensitivity or true positive rate, is the ratio of true positive predictions to the total number of actual positive instances in the dataset. Here, it means that the model is able to correctly identify approximately 32.63% of the actual positive instances. A higher recall value indicates that the model has a lower rate of false negative predictions.\n",
        "\n",
        "`Accuracy: 88.67%`\n",
        "\n",
        "Accuracy is the ratio of correctly predicted instances to the total number of instances in the dataset. It provides an overall measure of how well the model performs on the given classification task. In this case, the model achieves an accuracy of 88.67%, which means that it correctly predicts the category of approximately 88.67% of the instances in the test set.\n",
        "\n",
        "Overall, based on these metrics, the model shows a high precision score, indicating a low false positive rate. However, the recall score is relatively low, indicating that the model has difficulty correctly identifying all the positive instances. `So converting the apache spam dataset into a 2 column pandas dataframe is a bad idea!`"
      ],
      "metadata": {
        "id": "x5TAHEcWxZZ0"
      }
    },
    {
      "cell_type": "code",
      "source": [],
      "metadata": {
        "id": "9-eBy9t6w62r"
      },
      "execution_count": null,
      "outputs": []
    }
  ]
}