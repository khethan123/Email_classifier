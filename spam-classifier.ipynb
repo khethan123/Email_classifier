{
 "cells": [
  {
   "cell_type": "code",
   "execution_count": 1,
   "id": "878965f4",
   "metadata": {
    "execution": {
     "iopub.execute_input": "2023-06-02T03:29:32.152761Z",
     "iopub.status.busy": "2023-06-02T03:29:32.152374Z",
     "iopub.status.idle": "2023-06-02T03:29:32.164428Z",
     "shell.execute_reply": "2023-06-02T03:29:32.163458Z"
    },
    "papermill": {
     "duration": 0.027893,
     "end_time": "2023-06-02T03:29:32.166953",
     "exception": false,
     "start_time": "2023-06-02T03:29:32.139060",
     "status": "completed"
    },
    "tags": []
   },
   "outputs": [],
   "source": [
    "import os\n",
    "import tarfile\n",
    "import urllib.request\n",
    "\n",
    "DOWNLOAD_ROOT = \"http://spamassassin.apache.org/old/publiccorpus/\"\n",
    "HAM_URL = DOWNLOAD_ROOT + \"20030228_easy_ham.tar.bz2\"\n",
    "SPAM_URL = DOWNLOAD_ROOT + \"20030228_spam.tar.bz2\"\n",
    "SPAM_PATH = os.path.join(\"datasets\", \"spam\")\n",
    "\n",
    "def fetch_spam_data(ham_url=HAM_URL, spam_url=SPAM_URL, spam_path=SPAM_PATH):\n",
    "    if not os.path.isdir(spam_path):\n",
    "        os.makedirs(spam_path)\n",
    "    for filename, url in ((\"ham.tar.bz2\", ham_url), (\"spam.tar.bz2\", spam_url)):\n",
    "        path = os.path.join(spam_path, filename)\n",
    "        if not os.path.isfile(path):\n",
    "            urllib.request.urlretrieve(url, path)\n",
    "        tar_bz2_file = tarfile.open(path)\n",
    "        tar_bz2_file.extractall(path=spam_path)\n",
    "        tar_bz2_file.close()"
   ]
  },
  {
   "cell_type": "code",
   "execution_count": 2,
   "id": "c39275be",
   "metadata": {
    "execution": {
     "iopub.execute_input": "2023-06-02T03:29:32.191687Z",
     "iopub.status.busy": "2023-06-02T03:29:32.191327Z",
     "iopub.status.idle": "2023-06-02T03:29:35.009405Z",
     "shell.execute_reply": "2023-06-02T03:29:35.008232Z"
    },
    "papermill": {
     "duration": 2.833291,
     "end_time": "2023-06-02T03:29:35.011913",
     "exception": false,
     "start_time": "2023-06-02T03:29:32.178622",
     "status": "completed"
    },
    "tags": []
   },
   "outputs": [],
   "source": [
    "fetch_spam_data()"
   ]
  },
  {
   "cell_type": "code",
   "execution_count": 3,
   "id": "92b56785",
   "metadata": {
    "_cell_guid": "b1076dfc-b9ad-4769-8c92-a6c4dae69d19",
    "_uuid": "8f2839f25d086af736a60e9eeb907d3b93b6e0e5",
    "execution": {
     "iopub.execute_input": "2023-06-02T03:29:35.035938Z",
     "iopub.status.busy": "2023-06-02T03:29:35.035568Z",
     "iopub.status.idle": "2023-06-02T03:29:35.050070Z",
     "shell.execute_reply": "2023-06-02T03:29:35.048941Z"
    },
    "papermill": {
     "duration": 0.028807,
     "end_time": "2023-06-02T03:29:35.052179",
     "exception": false,
     "start_time": "2023-06-02T03:29:35.023372",
     "status": "completed"
    },
    "tags": []
   },
   "outputs": [
    {
     "name": "stdout",
     "output_type": "stream",
     "text": [
      "3005\n"
     ]
    }
   ],
   "source": [
    "import os\n",
    "a = []\n",
    "for dirname, _, filenames in os.walk('/kaggle/working'):\n",
    "    for filename in filenames:\n",
    "        a.append(os.path.join(dirname, filename))\n",
    "\n",
    "print(len(a))"
   ]
  },
  {
   "cell_type": "markdown",
   "id": "71028c1f",
   "metadata": {
    "papermill": {
     "duration": 0.010744,
     "end_time": "2023-06-02T03:29:35.074658",
     "exception": false,
     "start_time": "2023-06-02T03:29:35.063914",
     "status": "completed"
    },
    "tags": []
   },
   "source": [
    "So we have around 3000 emails (around 20 MB of data).\n",
    "let's load all these emails"
   ]
  },
  {
   "cell_type": "code",
   "execution_count": 4,
   "id": "fa488a93",
   "metadata": {
    "execution": {
     "iopub.execute_input": "2023-06-02T03:29:35.098746Z",
     "iopub.status.busy": "2023-06-02T03:29:35.098126Z",
     "iopub.status.idle": "2023-06-02T03:29:35.106349Z",
     "shell.execute_reply": "2023-06-02T03:29:35.105283Z"
    },
    "papermill": {
     "duration": 0.022796,
     "end_time": "2023-06-02T03:29:35.108495",
     "exception": false,
     "start_time": "2023-06-02T03:29:35.085699",
     "status": "completed"
    },
    "tags": []
   },
   "outputs": [],
   "source": [
    "HAM_DIR = os.path.join(SPAM_PATH, \"easy_ham\")\n",
    "SPAM_DIR = os.path.join(SPAM_PATH, \"spam\")\n",
    "ham_filenames = [name for name in sorted(os.listdir(HAM_DIR)) if len(name) > 20]\n",
    "spam_filenames = [name for name in sorted(os.listdir(SPAM_DIR)) if len(name) > 20]"
   ]
  },
  {
   "cell_type": "code",
   "execution_count": 5,
   "id": "01226d54",
   "metadata": {
    "execution": {
     "iopub.execute_input": "2023-06-02T03:29:35.132897Z",
     "iopub.status.busy": "2023-06-02T03:29:35.132517Z",
     "iopub.status.idle": "2023-06-02T03:29:35.137965Z",
     "shell.execute_reply": "2023-06-02T03:29:35.136505Z"
    },
    "papermill": {
     "duration": 0.020263,
     "end_time": "2023-06-02T03:29:35.140037",
     "exception": false,
     "start_time": "2023-06-02T03:29:35.119774",
     "status": "completed"
    },
    "tags": []
   },
   "outputs": [
    {
     "name": "stdout",
     "output_type": "stream",
     "text": [
      "Total spam files: 500\n",
      "Total ham files: 2500\n"
     ]
    }
   ],
   "source": [
    "print(f\"Total spam files: {len(spam_filenames)}\"+\"\\n\"+f\"Total ham files: {len(ham_filenames)}\")"
   ]
  },
  {
   "cell_type": "markdown",
   "id": "b0688d47",
   "metadata": {
    "papermill": {
     "duration": 0.010984,
     "end_time": "2023-06-02T03:29:35.162385",
     "exception": false,
     "start_time": "2023-06-02T03:29:35.151401",
     "status": "completed"
    },
    "tags": []
   },
   "source": [
    "***We can use Python's 'email' module to parse these emails (this handles headers, encoding, and so on):***"
   ]
  },
  {
   "cell_type": "code",
   "execution_count": 6,
   "id": "0c69d574",
   "metadata": {
    "execution": {
     "iopub.execute_input": "2023-06-02T03:29:35.186888Z",
     "iopub.status.busy": "2023-06-02T03:29:35.186499Z",
     "iopub.status.idle": "2023-06-02T03:29:35.192411Z",
     "shell.execute_reply": "2023-06-02T03:29:35.191407Z"
    },
    "papermill": {
     "duration": 0.020964,
     "end_time": "2023-06-02T03:29:35.194576",
     "exception": false,
     "start_time": "2023-06-02T03:29:35.173612",
     "status": "completed"
    },
    "tags": []
   },
   "outputs": [],
   "source": [
    "\n",
    "import email\n",
    "import email.policy\n",
    "\n",
    "def load_email(is_spam, filename, spam_path=SPAM_PATH):\n",
    "    directory = \"spam\" if is_spam else \"easy_ham\"\n",
    "    with open(os.path.join(spam_path, directory, filename), \"rb\") as f:\n",
    "        return email.parser.BytesParser(policy=email.policy.default).parse(f)"
   ]
  },
  {
   "cell_type": "code",
   "execution_count": 7,
   "id": "17c11c79",
   "metadata": {
    "execution": {
     "iopub.execute_input": "2023-06-02T03:29:35.219541Z",
     "iopub.status.busy": "2023-06-02T03:29:35.218701Z",
     "iopub.status.idle": "2023-06-02T03:29:37.954093Z",
     "shell.execute_reply": "2023-06-02T03:29:37.953089Z"
    },
    "papermill": {
     "duration": 2.750601,
     "end_time": "2023-06-02T03:29:37.956681",
     "exception": false,
     "start_time": "2023-06-02T03:29:35.206080",
     "status": "completed"
    },
    "tags": []
   },
   "outputs": [],
   "source": [
    "ham_emails = [load_email(is_spam=False, filename=name) for name in ham_filenames]\n",
    "spam_emails = [load_email(is_spam=True, filename=name) for name in spam_filenames]"
   ]
  },
  {
   "cell_type": "markdown",
   "id": "a5df4e99",
   "metadata": {
    "papermill": {
     "duration": 0.011609,
     "end_time": "2023-06-02T03:29:37.980077",
     "exception": false,
     "start_time": "2023-06-02T03:29:37.968468",
     "status": "completed"
    },
    "tags": []
   },
   "source": [
    "Let's look at one example of ham and one example of spam, to get a feel of what the data looks like:"
   ]
  },
  {
   "cell_type": "code",
   "execution_count": 8,
   "id": "1cabbb05",
   "metadata": {
    "execution": {
     "iopub.execute_input": "2023-06-02T03:29:38.005218Z",
     "iopub.status.busy": "2023-06-02T03:29:38.004537Z",
     "iopub.status.idle": "2023-06-02T03:29:38.013037Z",
     "shell.execute_reply": "2023-06-02T03:29:38.011962Z"
    },
    "papermill": {
     "duration": 0.023821,
     "end_time": "2023-06-02T03:29:38.015390",
     "exception": false,
     "start_time": "2023-06-02T03:29:37.991569",
     "status": "completed"
    },
    "tags": []
   },
   "outputs": [
    {
     "name": "stdout",
     "output_type": "stream",
     "text": [
      "\u001b[1mHam mail:\u001b[0m\n",
      " Martin A posted:\n",
      "Tassos Papadopoulos, the Greek sculptor behind the plan, judged that the\n",
      " limestone of Mount Kerdylio, 70 miles east of Salonika and not far from the\n",
      " Mount Athos monastic community, was ideal for the patriotic sculpture. \n",
      " \n",
      " As well as Alexander's granite features, 240 ft high and 170 ft wide, a\n",
      " museum, a restored amphitheatre and car park for admiring crowds are\n",
      "planned\n",
      "---------------------\n",
      "So is this mountain limestone or granite?\n",
      "If it's limestone, it'll weather pretty fast.\n",
      "\n",
      "------------------------ Yahoo! Groups Sponsor ---------------------~-->\n",
      "4 DVDs Free +s&p Join Now\n",
      "http://us.click.yahoo.com/pt6YBB/NXiEAA/mG3HAA/7gSolB/TM\n",
      "---------------------------------------------------------------------~->\n",
      "\n",
      "To unsubscribe from this group, send an email to:\n",
      "forteana-unsubscribe@egroups.com\n",
      "\n",
      " \n",
      "\n",
      "Your use of Yahoo! Groups is subject to http://docs.yahoo.com/info/terms/\n",
      "\n",
      "\n",
      "\n",
      "\n",
      "---------------------------\n",
      "\n",
      "\n",
      "\n",
      "\n",
      "\u001b[1mSpam mail:\u001b[0m\n",
      " Help wanted.  We are a 14 year old fortune 500 company, that is\n",
      "growing at a tremendous rate.  We are looking for individuals who\n",
      "want to work from home.\n",
      "\n",
      "This is an opportunity to make an excellent income.  No experience\n",
      "is required.  We will train you.\n",
      "\n",
      "So if you are looking to be employed from home with a career that has\n",
      "vast opportunities, then go:\n",
      "\n",
      "http://www.basetel.com/wealthnow\n",
      "\n",
      "We are looking for energetic and self motivated people.  If that is you\n",
      "than click on the link and fill out the form, and one of our\n",
      "employement specialist will contact you.\n",
      "\n",
      "To be removed from our link simple go to:\n",
      "\n",
      "http://www.basetel.com/remove.html\n",
      "\n",
      "\n",
      "4139vOLW7-758DoDY1425FRhM1-764SMFc8513fCsLl40\n"
     ]
    }
   ],
   "source": [
    "print(\"\\033[1m\" + \"Ham mail:\" + \"\\033[0m\\n\",ham_emails[1].get_content().strip())\n",
    "print('\\n'*3)\n",
    "print('---'*9)\n",
    "print('\\n'*3)\n",
    "print(\"\\033[1m\" + \"Spam mail:\" + \"\\033[0m\\n\",spam_emails[6].get_content().strip())"
   ]
  },
  {
   "cell_type": "markdown",
   "id": "ff7fd094",
   "metadata": {
    "papermill": {
     "duration": 0.01106,
     "end_time": "2023-06-02T03:29:38.037940",
     "exception": false,
     "start_time": "2023-06-02T03:29:38.026880",
     "status": "completed"
    },
    "tags": []
   },
   "source": [
    "![](https://ipx-cdn.lottiefiles.com/AdsqJdyXQ6epyEtZSxMvkCgMPgCS-xW9WSUhvc7h32k/fill/1200/600/no/0/aHR0cHM6Ly9kM2psNzY5b3k2OXk3Yi5jbG91ZGZyb250Lm5ldC8yMDIyLzEwL0FuaW1hdGVkLUVtYWlscy1CbG9nLUNvdmVyLnBuZw.jpg)We know that emails dont simply contain texts. those days are long gone. Nowadays emails are mutlipart, with images and attachments (which can have their own attachments). So let's look at the various types of structures that we have:"
   ]
  },
  {
   "cell_type": "code",
   "execution_count": 9,
   "id": "947d6f56",
   "metadata": {
    "execution": {
     "iopub.execute_input": "2023-06-02T03:29:38.062109Z",
     "iopub.status.busy": "2023-06-02T03:29:38.061706Z",
     "iopub.status.idle": "2023-06-02T03:29:38.067479Z",
     "shell.execute_reply": "2023-06-02T03:29:38.066473Z"
    },
    "papermill": {
     "duration": 0.020448,
     "end_time": "2023-06-02T03:29:38.069728",
     "exception": false,
     "start_time": "2023-06-02T03:29:38.049280",
     "status": "completed"
    },
    "tags": []
   },
   "outputs": [],
   "source": [
    "def get_email_structure(email):\n",
    "    if isinstance(email, str):\n",
    "        return email\n",
    "    payload = email.get_payload()\n",
    "    if isinstance(payload, list):\n",
    "        return \"multipart({})\".format(\", \".join([\n",
    "            get_email_structure(sub_email)\n",
    "            for sub_email in payload\n",
    "        ]))\n",
    "    else:\n",
    "        return email.get_content_type()"
   ]
  },
  {
   "cell_type": "code",
   "execution_count": 10,
   "id": "b1b6885f",
   "metadata": {
    "execution": {
     "iopub.execute_input": "2023-06-02T03:29:38.094662Z",
     "iopub.status.busy": "2023-06-02T03:29:38.094307Z",
     "iopub.status.idle": "2023-06-02T03:29:38.099064Z",
     "shell.execute_reply": "2023-06-02T03:29:38.098312Z"
    },
    "papermill": {
     "duration": 0.019372,
     "end_time": "2023-06-02T03:29:38.100987",
     "exception": false,
     "start_time": "2023-06-02T03:29:38.081615",
     "status": "completed"
    },
    "tags": []
   },
   "outputs": [],
   "source": [
    "from collections import Counter\n",
    "\n",
    "def structures_counter(emails):\n",
    "    structures = Counter()\n",
    "    for email in emails:\n",
    "        structure = get_email_structure(email)\n",
    "        structures[structure] += 1\n",
    "    return structures"
   ]
  },
  {
   "cell_type": "code",
   "execution_count": 11,
   "id": "1cf9a55f",
   "metadata": {
    "execution": {
     "iopub.execute_input": "2023-06-02T03:29:38.126383Z",
     "iopub.status.busy": "2023-06-02T03:29:38.125569Z",
     "iopub.status.idle": "2023-06-02T03:29:38.479380Z",
     "shell.execute_reply": "2023-06-02T03:29:38.478362Z"
    },
    "papermill": {
     "duration": 0.369005,
     "end_time": "2023-06-02T03:29:38.481697",
     "exception": false,
     "start_time": "2023-06-02T03:29:38.112692",
     "status": "completed"
    },
    "tags": []
   },
   "outputs": [
    {
     "data": {
      "text/plain": [
       "[('text/plain', 2408),\n",
       " ('multipart(text/plain, application/pgp-signature)', 66),\n",
       " ('multipart(text/plain, text/html)', 8),\n",
       " ('multipart(text/plain, text/plain)', 4),\n",
       " ('multipart(text/plain)', 3),\n",
       " ('multipart(text/plain, application/octet-stream)', 2),\n",
       " ('multipart(text/plain, text/enriched)', 1),\n",
       " ('multipart(text/plain, application/ms-tnef, text/plain)', 1),\n",
       " ('multipart(multipart(text/plain, text/plain, text/plain), application/pgp-signature)',\n",
       "  1),\n",
       " ('multipart(text/plain, video/mng)', 1),\n",
       " ('multipart(text/plain, multipart(text/plain))', 1),\n",
       " ('multipart(text/plain, application/x-pkcs7-signature)', 1),\n",
       " ('multipart(text/plain, multipart(text/plain, text/plain), text/rfc822-headers)',\n",
       "  1),\n",
       " ('multipart(text/plain, multipart(text/plain, text/plain), multipart(multipart(text/plain, application/x-pkcs7-signature)))',\n",
       "  1),\n",
       " ('multipart(text/plain, application/x-java-applet)', 1)]"
      ]
     },
     "execution_count": 11,
     "metadata": {},
     "output_type": "execute_result"
    }
   ],
   "source": [
    "structures_counter(ham_emails).most_common()"
   ]
  },
  {
   "cell_type": "code",
   "execution_count": 12,
   "id": "92c3825f",
   "metadata": {
    "execution": {
     "iopub.execute_input": "2023-06-02T03:29:38.506343Z",
     "iopub.status.busy": "2023-06-02T03:29:38.505976Z",
     "iopub.status.idle": "2023-06-02T03:29:38.630515Z",
     "shell.execute_reply": "2023-06-02T03:29:38.629371Z"
    },
    "papermill": {
     "duration": 0.139726,
     "end_time": "2023-06-02T03:29:38.632889",
     "exception": false,
     "start_time": "2023-06-02T03:29:38.493163",
     "status": "completed"
    },
    "tags": []
   },
   "outputs": [
    {
     "data": {
      "text/plain": [
       "[('text/plain', 218),\n",
       " ('text/html', 183),\n",
       " ('multipart(text/plain, text/html)', 45),\n",
       " ('multipart(text/html)', 20),\n",
       " ('multipart(text/plain)', 19),\n",
       " ('multipart(multipart(text/html))', 5),\n",
       " ('multipart(text/plain, image/jpeg)', 3),\n",
       " ('multipart(text/html, application/octet-stream)', 2),\n",
       " ('multipart(text/plain, application/octet-stream)', 1),\n",
       " ('multipart(text/html, text/plain)', 1),\n",
       " ('multipart(multipart(text/html), application/octet-stream, image/jpeg)', 1),\n",
       " ('multipart(multipart(text/plain, text/html), image/gif)', 1),\n",
       " ('multipart/alternative', 1)]"
      ]
     },
     "execution_count": 12,
     "metadata": {},
     "output_type": "execute_result"
    }
   ],
   "source": [
    "structures_counter(spam_emails).most_common()"
   ]
  },
  {
   "cell_type": "markdown",
   "id": "4e42d238",
   "metadata": {
    "papermill": {
     "duration": 0.011405,
     "end_time": "2023-06-02T03:29:38.656537",
     "exception": false,
     "start_time": "2023-06-02T03:29:38.645132",
     "status": "completed"
    },
    "tags": []
   },
   "source": [
    "**Ham emails:**\n",
    "8 (html text mails)\n",
    " \n",
    "**Spam emails:** \n",
    "258 (html text mails)\n",
    "\n",
    "*It seems that the ham emails are more often plain text, while spam has quite a lot of HTML. Moreover, quite a few ham emails are signed using PGP, while no spam is. In short, it seems that the email structure is useful information to have.*"
   ]
  },
  {
   "cell_type": "markdown",
   "id": "f15bb887",
   "metadata": {
    "papermill": {
     "duration": 0.011299,
     "end_time": "2023-06-02T03:29:38.679386",
     "exception": false,
     "start_time": "2023-06-02T03:29:38.668087",
     "status": "completed"
    },
    "tags": []
   },
   "source": [
    "# What about email headers:"
   ]
  },
  {
   "cell_type": "code",
   "execution_count": 13,
   "id": "86297509",
   "metadata": {
    "execution": {
     "iopub.execute_input": "2023-06-02T03:29:38.704403Z",
     "iopub.status.busy": "2023-06-02T03:29:38.704007Z",
     "iopub.status.idle": "2023-06-02T03:29:38.711869Z",
     "shell.execute_reply": "2023-06-02T03:29:38.710626Z"
    },
    "papermill": {
     "duration": 0.0232,
     "end_time": "2023-06-02T03:29:38.714077",
     "exception": false,
     "start_time": "2023-06-02T03:29:38.690877",
     "status": "completed"
    },
    "tags": []
   },
   "outputs": [
    {
     "name": "stdout",
     "output_type": "stream",
     "text": [
      "Return-Path : <12a1mailbot1@web.de>\n",
      "Delivered-To : zzzz@localhost.spamassassin.taint.org\n",
      "Received : from localhost (localhost [127.0.0.1])\tby phobos.labs.spamassassin.taint.org (Postfix) with ESMTP id 136B943C32\tfor <zzzz@localhost>; Thu, 22 Aug 2002 08:17:21 -0400 (EDT)\n",
      "Received : from mail.webnote.net [193.120.211.219]\tby localhost with POP3 (fetchmail-5.9.0)\tfor zzzz@localhost (single-drop); Thu, 22 Aug 2002 13:17:21 +0100 (IST)\n",
      "Received : from dd_it7 ([210.97.77.167])\tby webnote.net (8.9.3/8.9.3) with ESMTP id NAA04623\tfor <zzzz@spamassassin.taint.org>; Thu, 22 Aug 2002 13:09:41 +0100\n",
      "From : 12a1mailbot1@web.de\n",
      "Received : from r-smtp.korea.com - 203.122.2.197 by dd_it7  with Microsoft SMTPSVC(5.5.1775.675.6);\t Sat, 24 Aug 2002 09:42:10 +0900\n",
      "To : dcek1a1@netsgo.com\n",
      "Subject : Life Insurance - Why Pay More?\n",
      "Date : Wed, 21 Aug 2002 20:31:57 -1600\n",
      "MIME-Version : 1.0\n",
      "Message-ID : <0103c1042001882DD_IT7@dd_it7>\n",
      "Content-Type : text/html; charset=\"iso-8859-1\"\n",
      "Content-Transfer-Encoding : quoted-printable\n"
     ]
    }
   ],
   "source": [
    "for header, value in spam_emails[0].items():\n",
    "    print(header,\":\",value)"
   ]
  },
  {
   "cell_type": "markdown",
   "id": "1b22448d",
   "metadata": {
    "papermill": {
     "duration": 0.011443,
     "end_time": "2023-06-02T03:29:38.737298",
     "exception": false,
     "start_time": "2023-06-02T03:29:38.725855",
     "status": "completed"
    },
    "tags": []
   },
   "source": [
    "we got a lot of info and some of it might be useful and some might not. Let's focus on the `Subject` Header of the email."
   ]
  },
  {
   "cell_type": "code",
   "execution_count": 14,
   "id": "c924ac8f",
   "metadata": {
    "execution": {
     "iopub.execute_input": "2023-06-02T03:29:38.762508Z",
     "iopub.status.busy": "2023-06-02T03:29:38.762129Z",
     "iopub.status.idle": "2023-06-02T03:29:38.768584Z",
     "shell.execute_reply": "2023-06-02T03:29:38.767418Z"
    },
    "papermill": {
     "duration": 0.021601,
     "end_time": "2023-06-02T03:29:38.770600",
     "exception": false,
     "start_time": "2023-06-02T03:29:38.748999",
     "status": "completed"
    },
    "tags": []
   },
   "outputs": [
    {
     "data": {
      "text/plain": [
       "'Life Insurance - Why Pay More?'"
      ]
     },
     "execution_count": 14,
     "metadata": {},
     "output_type": "execute_result"
    }
   ],
   "source": [
    "spam_emails[0][\"Subject\"]"
   ]
  },
  {
   "cell_type": "markdown",
   "id": "32e5b670",
   "metadata": {
    "papermill": {
     "duration": 0.011578,
     "end_time": "2023-06-02T03:29:38.794164",
     "exception": false,
     "start_time": "2023-06-02T03:29:38.782586",
     "status": "completed"
    },
    "tags": []
   },
   "source": [
    "# Data Splitting"
   ]
  },
  {
   "cell_type": "code",
   "execution_count": 15,
   "id": "51cd6315",
   "metadata": {
    "execution": {
     "iopub.execute_input": "2023-06-02T03:29:38.819840Z",
     "iopub.status.busy": "2023-06-02T03:29:38.819124Z",
     "iopub.status.idle": "2023-06-02T03:29:40.124709Z",
     "shell.execute_reply": "2023-06-02T03:29:40.123724Z"
    },
    "papermill": {
     "duration": 1.321159,
     "end_time": "2023-06-02T03:29:40.127063",
     "exception": false,
     "start_time": "2023-06-02T03:29:38.805904",
     "status": "completed"
    },
    "tags": []
   },
   "outputs": [],
   "source": [
    "import numpy as np\n",
    "from sklearn.model_selection import train_test_split\n",
    "\n",
    "X = np.array(ham_emails + spam_emails, dtype=object)\n",
    "y = np.array([0] * len(ham_emails) + [1] * len(spam_emails))\n",
    "\n",
    "X_train, X_test, y_train, y_test = train_test_split(X, y, test_size=0.2, random_state=42)"
   ]
  },
  {
   "cell_type": "markdown",
   "id": "4277e6f9",
   "metadata": {
    "papermill": {
     "duration": 0.012041,
     "end_time": "2023-06-02T03:29:40.151309",
     "exception": false,
     "start_time": "2023-06-02T03:29:40.139268",
     "status": "completed"
    },
    "tags": []
   },
   "source": [
    "okay, what next?\n",
    "1. A function to convert HTML to plain Text.\n",
    "2. A function that takes an email as i/p & returns its context as plain text, irrespective of the format of text.\n",
    "3. Perform some stemming. For ex, the words “programming,” “programmer,” and “programs” can all be reduced down to the common word stem “program.”\n",
    "4. Reduce the usuage of dependencies as much as possible.\n",
    "5. A transformer function that we will use to convert emails to word counters.\n",
    "6. A function to convert the word counts to vectors."
   ]
  },
  {
   "cell_type": "markdown",
   "id": "42e0cc48",
   "metadata": {
    "papermill": {
     "duration": 0.011826,
     "end_time": "2023-06-02T03:29:40.174868",
     "exception": false,
     "start_time": "2023-06-02T03:29:40.163042",
     "status": "completed"
    },
    "tags": []
   },
   "source": [
    "The following function first drops the `<head>` section, then converts all `<a>` tags to the word **HYPERLINK**, then it gets rid of all HTML tags, leaving only the plain text. For readability, it also replaces multiple newlines with single newlines, and finally it unescapes html entities (such as `&gt;` or `&nbsp;`)"
   ]
  },
  {
   "cell_type": "code",
   "execution_count": 16,
   "id": "7255c00d",
   "metadata": {
    "execution": {
     "iopub.execute_input": "2023-06-02T03:29:40.200663Z",
     "iopub.status.busy": "2023-06-02T03:29:40.200279Z",
     "iopub.status.idle": "2023-06-02T03:29:40.206443Z",
     "shell.execute_reply": "2023-06-02T03:29:40.205406Z"
    },
    "papermill": {
     "duration": 0.021255,
     "end_time": "2023-06-02T03:29:40.208428",
     "exception": false,
     "start_time": "2023-06-02T03:29:40.187173",
     "status": "completed"
    },
    "tags": []
   },
   "outputs": [],
   "source": [
    "# 1 => HTML to plain text\n",
    "import re\n",
    "from html import unescape\n",
    "\n",
    "def html_to_plain_text(html):\n",
    "    text = re.sub('<head.*?>.*?</head>', '', html, flags=re.M | re.S | re.I)\n",
    "    text = re.sub('<a\\s.*?>', ' HYPERLINK ', text, flags=re.M | re.S | re.I)\n",
    "    text = re.sub('<.*?>', '', text, flags=re.M | re.S)\n",
    "    text = re.sub(r'(\\s*\\n)+', '\\n', text, flags=re.M | re.S)\n",
    "    return unescape(text)"
   ]
  },
  {
   "cell_type": "code",
   "execution_count": 17,
   "id": "37b2e2ee",
   "metadata": {
    "execution": {
     "iopub.execute_input": "2023-06-02T03:29:40.234208Z",
     "iopub.status.busy": "2023-06-02T03:29:40.233473Z",
     "iopub.status.idle": "2023-06-02T03:29:40.329038Z",
     "shell.execute_reply": "2023-06-02T03:29:40.327986Z"
    },
    "papermill": {
     "duration": 0.111146,
     "end_time": "2023-06-02T03:29:40.331465",
     "exception": false,
     "start_time": "2023-06-02T03:29:40.220319",
     "status": "completed"
    },
    "tags": []
   },
   "outputs": [
    {
     "name": "stdout",
     "output_type": "stream",
     "text": [
      "<HTML><HEAD><TITLE></TITLE><META http-equiv=\"Content-Type\" content=\"text/html; charset=windows-1252\"><STYLE>A:link {TEX-DECORATION: none}A:active {TEXT-DECORATION: none}A:visited {TEXT-DECORATION: none}A:hover {COLOR: #0033ff; TEXT-DECORATION: underline}</STYLE><META content=\"MSHTML 6.00.2713.1100\" name=\"GENERATOR\"></HEAD>\n",
      "<BODY text=\"#000000\" vLink=\"#0033ff\" link=\"#0033ff\" bgColor=\"#CCCC99\"><TABLE borderColor=\"#660000\" cellSpacing=\"0\" cellPadding=\"0\" border=\"0\" width=\"100%\"><TR><TD bgColor=\"#CCCC99\" valign=\"top\" colspan=\"2\" height=\"27\">\n",
      "<font size=\"6\" face=\"Arial, Helvetica, sans-serif\" color=\"#660000\">\n",
      "<b>OTC</b></font></TD></TR><TR><TD height=\"2\" bgcolor=\"#6a694f\">\n",
      "<font size=\"5\" face=\"Times New Roman, Times, serif\" color=\"#FFFFFF\">\n",
      "<b>&nbsp;Newsletter</b></font></TD><TD height=\"2\" bgcolor=\"#6a694f\"><div align=\"right\"><font color=\"#FFFFFF\">\n",
      "<b>Discover Tomorrow's Winners&nbsp;</b></font></div></TD></TR><TR><TD height=\"25\" colspan=\"2\" bgcolor=\"#CCCC99\"><table width=\"100%\" border=\"0\"  ...\n"
     ]
    }
   ],
   "source": [
    "html_spam_emails = [email for email in X_train[y_train==1]\n",
    "                    if get_email_structure(email) == \"text/html\"]\n",
    "sample_html_spam = html_spam_emails[7]\n",
    "print(sample_html_spam.get_content().strip()[:1000], \"...\")"
   ]
  },
  {
   "cell_type": "markdown",
   "id": "dad02594",
   "metadata": {
    "papermill": {
     "duration": 0.011744,
     "end_time": "2023-06-02T03:29:40.355816",
     "exception": false,
     "start_time": "2023-06-02T03:29:40.344072",
     "status": "completed"
    },
    "tags": []
   },
   "source": [
    "Let's check if it worked fo all"
   ]
  },
  {
   "cell_type": "code",
   "execution_count": 18,
   "id": "37d0185b",
   "metadata": {
    "execution": {
     "iopub.execute_input": "2023-06-02T03:29:40.381924Z",
     "iopub.status.busy": "2023-06-02T03:29:40.381569Z",
     "iopub.status.idle": "2023-06-02T03:29:40.388259Z",
     "shell.execute_reply": "2023-06-02T03:29:40.387198Z"
    },
    "papermill": {
     "duration": 0.022415,
     "end_time": "2023-06-02T03:29:40.390396",
     "exception": false,
     "start_time": "2023-06-02T03:29:40.367981",
     "status": "completed"
    },
    "tags": []
   },
   "outputs": [
    {
     "data": {
      "text/plain": [
       "Counter({'Received': 4,\n",
       "         'Return-Path': 1,\n",
       "         'Delivered-To': 1,\n",
       "         'Date': 1,\n",
       "         'Message-Id': 1,\n",
       "         'From': 1,\n",
       "         'To': 1,\n",
       "         'Subject': 1,\n",
       "         'MIME-Version': 1,\n",
       "         'Content-Type': 1,\n",
       "         'Content-Transfer-Encoding': 1})"
      ]
     },
     "execution_count": 18,
     "metadata": {},
     "output_type": "execute_result"
    }
   ],
   "source": [
    "structures_counter(sample_html_spam)"
   ]
  },
  {
   "cell_type": "code",
   "execution_count": 19,
   "id": "93e1e739",
   "metadata": {
    "execution": {
     "iopub.execute_input": "2023-06-02T03:29:40.416828Z",
     "iopub.status.busy": "2023-06-02T03:29:40.416163Z",
     "iopub.status.idle": "2023-06-02T03:29:40.423427Z",
     "shell.execute_reply": "2023-06-02T03:29:40.421695Z"
    },
    "papermill": {
     "duration": 0.023092,
     "end_time": "2023-06-02T03:29:40.425639",
     "exception": false,
     "start_time": "2023-06-02T03:29:40.402547",
     "status": "completed"
    },
    "tags": []
   },
   "outputs": [
    {
     "name": "stdout",
     "output_type": "stream",
     "text": [
      "\n",
      "OTC\n",
      " Newsletter\n",
      "Discover Tomorrow's Winners \n",
      "For Immediate Release\n",
      "Cal-Bay (Stock Symbol: CBYI)\n",
      "Watch for analyst \"Strong Buy Recommendations\" and several advisory newsletters picking CBYI.  CBYI has filed to be traded on the OTCBB, share prices historically INCREASE when companies get listed on this larger trading exchange. CBYI is trading around 25 cents and should skyrocket to $2.66 - $3.25 a share in the near future.\n",
      "Put CBYI on your watch list, acquire a position TODAY.\n",
      "REASONS TO INVEST IN CBYI\n",
      "A profitable company and is on track to beat ALL earnings estimates!\n",
      "One of the FASTEST growing distributors in environmental & safety equipment instruments.\n",
      "Excellent management team, several EXCLUSIVE contracts.  IMPRESSIVE client list including the U.S. Air Force, Anheuser-Busch, Chevron Refining and Mitsubishi Heavy Industries, GE-Energy & Environmental Research.\n",
      "RAPIDLY GROWING INDUSTRY\n",
      "Industry revenues exceed $900 million, estimates indicate that there could be as much as $25 billi ...\n"
     ]
    }
   ],
   "source": [
    "print(html_to_plain_text(sample_html_spam.get_content())[:1000], \"...\")"
   ]
  },
  {
   "cell_type": "markdown",
   "id": "22f85fbe",
   "metadata": {
    "papermill": {
     "duration": 0.012054,
     "end_time": "2023-06-02T03:29:40.449958",
     "exception": false,
     "start_time": "2023-06-02T03:29:40.437904",
     "status": "completed"
    },
    "tags": []
   },
   "source": [
    "***It works!***"
   ]
  },
  {
   "cell_type": "code",
   "execution_count": 20,
   "id": "32680120",
   "metadata": {
    "execution": {
     "iopub.execute_input": "2023-06-02T03:29:40.476692Z",
     "iopub.status.busy": "2023-06-02T03:29:40.476310Z",
     "iopub.status.idle": "2023-06-02T03:29:40.485212Z",
     "shell.execute_reply": "2023-06-02T03:29:40.484146Z"
    },
    "papermill": {
     "duration": 0.025257,
     "end_time": "2023-06-02T03:29:40.487327",
     "exception": false,
     "start_time": "2023-06-02T03:29:40.462070",
     "status": "completed"
    },
    "tags": []
   },
   "outputs": [
    {
     "name": "stdout",
     "output_type": "stream",
     "text": [
      "\n",
      "OTC\n",
      " Newsletter\n",
      "Discover Tomorrow's Winners \n",
      "For Immediate Release\n",
      "Cal-Bay (Stock Symbol: CBYI)\n",
      "Wat ...\n"
     ]
    }
   ],
   "source": [
    "# 2 => return plain text as o/p\n",
    "def email_to_text(email):\n",
    "    html = None\n",
    "    for part in email.walk():\n",
    "        ctype = part.get_content_type()\n",
    "        if not ctype in (\"text/plain\", \"text/html\"):\n",
    "            continue\n",
    "        try:\n",
    "            content = part.get_content()\n",
    "        except: # in case of encoding issues\n",
    "            content = str(part.get_payload())\n",
    "        if ctype == \"text/plain\":\n",
    "            return content\n",
    "        else:\n",
    "            html = content\n",
    "    if html:\n",
    "        return html_to_plain_text(html)\n",
    "    \n",
    "print(email_to_text(sample_html_spam)[:100], \"...\")"
   ]
  },
  {
   "cell_type": "markdown",
   "id": "7e3f67b6",
   "metadata": {
    "papermill": {
     "duration": 0.011981,
     "end_time": "2023-06-02T03:29:40.511664",
     "exception": false,
     "start_time": "2023-06-02T03:29:40.499683",
     "status": "completed"
    },
    "tags": []
   },
   "source": [
    "Now to perform stemming we need Natural Language Toolkit. We will also need a way to replace URLs with the word \"URL\" using the urlextract library. More dependencies."
   ]
  },
  {
   "cell_type": "code",
   "execution_count": 21,
   "id": "4c4c5e36",
   "metadata": {
    "execution": {
     "iopub.execute_input": "2023-06-02T03:29:40.537892Z",
     "iopub.status.busy": "2023-06-02T03:29:40.537486Z",
     "iopub.status.idle": "2023-06-02T03:29:53.217986Z",
     "shell.execute_reply": "2023-06-02T03:29:53.216504Z"
    },
    "papermill": {
     "duration": 12.696545,
     "end_time": "2023-06-02T03:29:53.220397",
     "exception": false,
     "start_time": "2023-06-02T03:29:40.523852",
     "status": "completed"
    },
    "tags": []
   },
   "outputs": [
    {
     "name": "stdout",
     "output_type": "stream",
     "text": [
      "\u001b[33mWARNING: Running pip as the 'root' user can result in broken permissions and conflicting behaviour with the system package manager. It is recommended to use a virtual environment instead: https://pip.pypa.io/warnings/venv\u001b[0m\u001b[33m\r\n",
      "\u001b[0mNote: you may need to restart the kernel to use updated packages.\n"
     ]
    }
   ],
   "source": [
    "%pip install -q -U urlextract"
   ]
  },
  {
   "cell_type": "code",
   "execution_count": 22,
   "id": "352fdcd1",
   "metadata": {
    "execution": {
     "iopub.execute_input": "2023-06-02T03:29:53.249223Z",
     "iopub.status.busy": "2023-06-02T03:29:53.248017Z",
     "iopub.status.idle": "2023-06-02T03:29:53.919771Z",
     "shell.execute_reply": "2023-06-02T03:29:53.918649Z"
    },
    "papermill": {
     "duration": 0.688699,
     "end_time": "2023-06-02T03:29:53.922050",
     "exception": false,
     "start_time": "2023-06-02T03:29:53.233351",
     "status": "completed"
    },
    "tags": []
   },
   "outputs": [
    {
     "name": "stdout",
     "output_type": "stream",
     "text": [
      "Computations => comput\n",
      "Computation => comput\n",
      "Computing => comput\n",
      "Computed => comput\n",
      "Compute => comput\n",
      "Compulsive => compuls\n"
     ]
    }
   ],
   "source": [
    "# 3 => stemming (below is just an example to see whether nltk is present or not)\n",
    "try:\n",
    "    import nltk\n",
    "\n",
    "    stemmer = nltk.PorterStemmer()\n",
    "    for word in (\"Computations\", \"Computation\", \"Computing\", \"Computed\", \"Compute\", \"Compulsive\"):\n",
    "        print(word, \"=>\", stemmer.stem(word))\n",
    "except ImportError:\n",
    "    print(\"Error: stemming requires the NLTK module.\")\n",
    "    stemmer = None"
   ]
  },
  {
   "cell_type": "code",
   "execution_count": 23,
   "id": "4b09de82",
   "metadata": {
    "execution": {
     "iopub.execute_input": "2023-06-02T03:29:53.948939Z",
     "iopub.status.busy": "2023-06-02T03:29:53.948579Z",
     "iopub.status.idle": "2023-06-02T03:29:54.225257Z",
     "shell.execute_reply": "2023-06-02T03:29:54.224201Z"
    },
    "papermill": {
     "duration": 0.293216,
     "end_time": "2023-06-02T03:29:54.227922",
     "exception": false,
     "start_time": "2023-06-02T03:29:53.934706",
     "status": "completed"
    },
    "tags": []
   },
   "outputs": [
    {
     "name": "stdout",
     "output_type": "stream",
     "text": [
      "['github.com', 'https://youtu.be/7Pq-S557XQU?t=3m32s']\n"
     ]
    }
   ],
   "source": [
    "# (an example to see if urlextraxt is downloaded or not)\n",
    "try:\n",
    "    import urlextract \n",
    "    \n",
    "    url_extractor = urlextract.URLExtract()\n",
    "    print(url_extractor.find_urls(\"Will it detect github.com and https://youtu.be/7Pq-S557XQU?t=3m32s\"))\n",
    "except ImportError:\n",
    "    print(\"Error: replacing URLs requires the urlextract module.\")\n",
    "    url_extractor = None"
   ]
  },
  {
   "cell_type": "markdown",
   "id": "718f40ff",
   "metadata": {
    "papermill": {
     "duration": 0.012148,
     "end_time": "2023-06-02T03:29:54.252568",
     "exception": false,
     "start_time": "2023-06-02T03:29:54.240420",
     "status": "completed"
    },
    "tags": []
   },
   "source": [
    "We are ready to put all this together into a transformer that we will use to convert *HTML text in emails to Plain text in emails and then emails to word counters*. Note that we split sentences into words using Python's ***split()*** method, which uses whitespaces for word boundaries. This works for many written languages, but not all. For example, Chinese and Japanese scripts generally don't use spaces between words, and Vietnamese often uses spaces even between syllables. It's okay here, because the dataset is (mostly) in English."
   ]
  },
  {
   "cell_type": "code",
   "execution_count": 24,
   "id": "6dbd2284",
   "metadata": {
    "execution": {
     "iopub.execute_input": "2023-06-02T03:29:54.279578Z",
     "iopub.status.busy": "2023-06-02T03:29:54.279190Z",
     "iopub.status.idle": "2023-06-02T03:29:54.290076Z",
     "shell.execute_reply": "2023-06-02T03:29:54.288991Z"
    },
    "papermill": {
     "duration": 0.027627,
     "end_time": "2023-06-02T03:29:54.292707",
     "exception": false,
     "start_time": "2023-06-02T03:29:54.265080",
     "status": "completed"
    },
    "tags": []
   },
   "outputs": [],
   "source": [
    "# 5 => transormer to convert emails to word counters\n",
    "from sklearn.base import BaseEstimator, TransformerMixin\n",
    "\n",
    "class EmailToWordCounterTransformer(BaseEstimator, TransformerMixin):\n",
    "    def __init__(self, strip_headers=True, lower_case=True, remove_punctuation=True,\n",
    "                 replace_urls=True, replace_numbers=True, stemming=True):\n",
    "        self.strip_headers = strip_headers\n",
    "        self.lower_case = lower_case\n",
    "        self.remove_punctuation = remove_punctuation\n",
    "        self.replace_urls = replace_urls\n",
    "        self.replace_numbers = replace_numbers\n",
    "        self.stemming = stemming\n",
    "    def fit(self, X, y=None):\n",
    "        return self\n",
    "    def transform(self, X, y=None):\n",
    "        X_transformed = []\n",
    "        for email in X:\n",
    "            text = email_to_text(email) or \"\"\n",
    "            if self.lower_case:\n",
    "                text = text.lower()\n",
    "            if self.replace_urls and url_extractor is not None:\n",
    "                urls = list(set(url_extractor.find_urls(text)))\n",
    "                urls.sort(key=lambda url: len(url), reverse=True)\n",
    "                for url in urls:\n",
    "                    text = text.replace(url, \" URL \")\n",
    "            if self.replace_numbers:\n",
    "                text = re.sub(r'\\d+(?:\\.\\d*)?(?:[eE][+-]?\\d+)?', 'NUMBER', text)\n",
    "            if self.remove_punctuation:\n",
    "                text = re.sub(r'\\W+', ' ', text, flags=re.M)\n",
    "            word_counts = Counter(text.split())\n",
    "            if self.stemming and stemmer is not None:\n",
    "                stemmed_word_counts = Counter()\n",
    "                for word, count in word_counts.items():\n",
    "                    stemmed_word = stemmer.stem(word)\n",
    "                    stemmed_word_counts[stemmed_word] += count\n",
    "                word_counts = stemmed_word_counts\n",
    "            X_transformed.append(word_counts)\n",
    "        return np.array(X_transformed)"
   ]
  },
  {
   "cell_type": "code",
   "execution_count": 25,
   "id": "c41dc1b2",
   "metadata": {
    "execution": {
     "iopub.execute_input": "2023-06-02T03:29:54.320470Z",
     "iopub.status.busy": "2023-06-02T03:29:54.320098Z",
     "iopub.status.idle": "2023-06-02T03:29:54.352031Z",
     "shell.execute_reply": "2023-06-02T03:29:54.350852Z"
    },
    "papermill": {
     "duration": 0.048636,
     "end_time": "2023-06-02T03:29:54.354335",
     "exception": false,
     "start_time": "2023-06-02T03:29:54.305699",
     "status": "completed"
    },
    "tags": []
   },
   "outputs": [
    {
     "name": "stdout",
     "output_type": "stream",
     "text": [
      "\u001b[1mWords in mail number 1:\u001b[0m\n",
      "Counter({'chuck': 1, 'murcko': 1, 'wrote': 1, 'stuff': 1, 'yawn': 1, 'r': 1}) \n",
      "\n",
      "\u001b[1mWords in mail number 2:\u001b[0m\n",
      "Counter({'the': 11, 'of': 9, 'and': 8, 'all': 3, 'christian': 3, 'to': 3, 'by': 3, 'jefferson': 2, 'i': 2, 'have': 2, 'superstit': 2, 'one': 2, 'on': 2, 'been': 2, 'ha': 2, 'half': 2, 'rogueri': 2, 'teach': 2, 'jesu': 2, 'some': 1, 'interest': 1, 'quot': 1, 'url': 1, 'thoma': 1, 'examin': 1, 'known': 1, 'word': 1, 'do': 1, 'not': 1, 'find': 1, 'in': 1, 'our': 1, 'particular': 1, 'redeem': 1, 'featur': 1, 'they': 1, 'are': 1, 'alik': 1, 'found': 1, 'fabl': 1, 'mytholog': 1, 'million': 1, 'innoc': 1, 'men': 1, 'women': 1, 'children': 1, 'sinc': 1, 'introduct': 1, 'burnt': 1, 'tortur': 1, 'fine': 1, 'imprison': 1, 'what': 1, 'effect': 1, 'thi': 1, 'coercion': 1, 'make': 1, 'world': 1, 'fool': 1, 'other': 1, 'hypocrit': 1, 'support': 1, 'error': 1, 'over': 1, 'earth': 1, 'six': 1, 'histor': 1, 'american': 1, 'john': 1, 'e': 1, 'remsburg': 1, 'letter': 1, 'william': 1, 'short': 1, 'again': 1, 'becom': 1, 'most': 1, 'pervert': 1, 'system': 1, 'that': 1, 'ever': 1, 'shone': 1, 'man': 1, 'absurd': 1, 'untruth': 1, 'were': 1, 'perpetr': 1, 'upon': 1, 'a': 1, 'larg': 1, 'band': 1, 'dupe': 1, 'import': 1, 'led': 1, 'paul': 1, 'first': 1, 'great': 1, 'corrupt': 1}) \n",
      "\n",
      "\u001b[1mWords in mail number 3:\u001b[0m\n",
      "Counter({'url': 4, 's': 3, 'group': 3, 'to': 3, 'in': 2, 'forteana': 2, 'martin': 2, 'an': 2, 'and': 2, 'we': 2, 'is': 2, 'yahoo': 2, 'unsubscrib': 2, 'y': 1, 'adamson': 1, 'wrote': 1, 'for': 1, 'altern': 1, 'rather': 1, 'more': 1, 'factual': 1, 'base': 1, 'rundown': 1, 'on': 1, 'hamza': 1, 'career': 1, 'includ': 1, 'hi': 1, 'belief': 1, 'that': 1, 'all': 1, 'non': 1, 'muslim': 1, 'yemen': 1, 'should': 1, 'be': 1, 'murder': 1, 'outright': 1, 'know': 1, 'how': 1, 'unbias': 1, 'memri': 1, 'don': 1, 't': 1, 'html': 1, 'rob': 1, 'sponsor': 1, 'number': 1, 'dvd': 1, 'free': 1, 'p': 1, 'join': 1, 'now': 1, 'from': 1, 'thi': 1, 'send': 1, 'email': 1, 'egroup': 1, 'com': 1, 'your': 1, 'use': 1, 'of': 1, 'subject': 1}) \n",
      "\n"
     ]
    }
   ],
   "source": [
    "# let's try it on few mails\n",
    "X_few = X_train[:3]\n",
    "X_few_wordcounts = EmailToWordCounterTransformer().fit_transform(X_few)\n",
    "#X_few_wordcounts\n",
    "a = 1\n",
    "for i in range(len(X_few_wordcounts)):\n",
    "    print(\"\\033[1m\" + f\"Words in mail number {a}:\" + \"\\033[0m\")\n",
    "    print(X_few_wordcounts[i],\"\\n\")\n",
    "    a+=1\n"
   ]
  },
  {
   "cell_type": "markdown",
   "id": "141ca79d",
   "metadata": {
    "papermill": {
     "duration": 0.013202,
     "end_time": "2023-06-02T03:29:54.380877",
     "exception": false,
     "start_time": "2023-06-02T03:29:54.367675",
     "status": "completed"
    },
    "tags": []
   },
   "source": [
    "**6** => For this, we will build another transformer whose `fit()` method will build the vocabulary (an ordered list of the most common words) and whose `transform()` method will use the vocabulary to convert word counts to vectors. The output is a sparse matrix."
   ]
  },
  {
   "cell_type": "code",
   "execution_count": 26,
   "id": "9ec2937c",
   "metadata": {
    "execution": {
     "iopub.execute_input": "2023-06-02T03:29:54.409930Z",
     "iopub.status.busy": "2023-06-02T03:29:54.409571Z",
     "iopub.status.idle": "2023-06-02T03:29:54.418364Z",
     "shell.execute_reply": "2023-06-02T03:29:54.417221Z"
    },
    "papermill": {
     "duration": 0.025846,
     "end_time": "2023-06-02T03:29:54.420881",
     "exception": false,
     "start_time": "2023-06-02T03:29:54.395035",
     "status": "completed"
    },
    "tags": []
   },
   "outputs": [],
   "source": [
    "from scipy.sparse import csr_matrix\n",
    "\n",
    "class WordCounterToVectorTransformer(BaseEstimator, TransformerMixin):\n",
    "    def __init__(self, vocabulary_size=1000):\n",
    "        self.vocabulary_size = vocabulary_size\n",
    "    def fit(self, X, y=None):\n",
    "        total_count = Counter()\n",
    "        for word_count in X:\n",
    "            for word, count in word_count.items():\n",
    "                total_count[word] += min(count, 10)\n",
    "        most_common = total_count.most_common()[:self.vocabulary_size]\n",
    "        self.vocabulary_ = {word: index + 1 for index, (word, count) in enumerate(most_common)}\n",
    "        return self\n",
    "    def transform(self, X, y=None):\n",
    "        rows = []\n",
    "        cols = []\n",
    "        data = []\n",
    "        for row, word_count in enumerate(X):\n",
    "            for word, count in word_count.items():\n",
    "                rows.append(row)\n",
    "                cols.append(self.vocabulary_.get(word, 0))\n",
    "                data.append(count)\n",
    "        return csr_matrix((data, (rows, cols)), shape=(len(X), self.vocabulary_size + 1))"
   ]
  },
  {
   "cell_type": "code",
   "execution_count": 27,
   "id": "64d995d6",
   "metadata": {
    "execution": {
     "iopub.execute_input": "2023-06-02T03:29:54.448750Z",
     "iopub.status.busy": "2023-06-02T03:29:54.448327Z",
     "iopub.status.idle": "2023-06-02T03:29:54.463559Z",
     "shell.execute_reply": "2023-06-02T03:29:54.462564Z"
    },
    "papermill": {
     "duration": 0.031641,
     "end_time": "2023-06-02T03:29:54.465596",
     "exception": false,
     "start_time": "2023-06-02T03:29:54.433955",
     "status": "completed"
    },
    "tags": []
   },
   "outputs": [
    {
     "data": {
      "text/plain": [
       "<3x11 sparse matrix of type '<class 'numpy.int64'>'\n",
       "\twith 20 stored elements in Compressed Sparse Row format>"
      ]
     },
     "execution_count": 27,
     "metadata": {},
     "output_type": "execute_result"
    }
   ],
   "source": [
    "vocab_transformer = WordCounterToVectorTransformer(vocabulary_size=10)\n",
    "X_few_vectors = vocab_transformer.fit_transform(X_few_wordcounts)\n",
    "X_few_vectors"
   ]
  },
  {
   "cell_type": "code",
   "execution_count": 28,
   "id": "ff3e96f6",
   "metadata": {
    "execution": {
     "iopub.execute_input": "2023-06-02T03:29:54.492710Z",
     "iopub.status.busy": "2023-06-02T03:29:54.492348Z",
     "iopub.status.idle": "2023-06-02T03:29:54.499536Z",
     "shell.execute_reply": "2023-06-02T03:29:54.498477Z"
    },
    "papermill": {
     "duration": 0.023146,
     "end_time": "2023-06-02T03:29:54.501467",
     "exception": false,
     "start_time": "2023-06-02T03:29:54.478321",
     "status": "completed"
    },
    "tags": []
   },
   "outputs": [
    {
     "data": {
      "text/plain": [
       "array([[ 6,  0,  0,  0,  0,  0,  0,  0,  0,  0,  0],\n",
       "       [99, 11,  9,  8,  3,  1,  3,  1,  3,  2,  3],\n",
       "       [67,  0,  1,  2,  3,  4,  1,  2,  0,  1,  0]])"
      ]
     },
     "execution_count": 28,
     "metadata": {},
     "output_type": "execute_result"
    }
   ],
   "source": [
    "X_few_vectors.toarray()"
   ]
  },
  {
   "cell_type": "markdown",
   "id": "a45cdbef",
   "metadata": {
    "papermill": {
     "duration": 0.012549,
     "end_time": "2023-06-02T03:29:54.526966",
     "exception": false,
     "start_time": "2023-06-02T03:29:54.514417",
     "status": "completed"
    },
    "tags": []
   },
   "source": [
    "What does this matrix mean? Well, the 99 in the second row, first column, means that the second email contains 99 words that are not part of the vocabulary. The 11 next to it means that the first word in the vocabulary is present 11 times in this email. The 9 next to it means that the second word is present 9 times, and so on. You can look at the vocabulary to know which words we are talking about. The first word is \"the\", the second word is \"of\", etc."
   ]
  },
  {
   "cell_type": "code",
   "execution_count": 29,
   "id": "1340bb89",
   "metadata": {
    "execution": {
     "iopub.execute_input": "2023-06-02T03:29:54.554482Z",
     "iopub.status.busy": "2023-06-02T03:29:54.554086Z",
     "iopub.status.idle": "2023-06-02T03:29:54.560879Z",
     "shell.execute_reply": "2023-06-02T03:29:54.559859Z"
    },
    "papermill": {
     "duration": 0.022912,
     "end_time": "2023-06-02T03:29:54.562988",
     "exception": false,
     "start_time": "2023-06-02T03:29:54.540076",
     "status": "completed"
    },
    "tags": []
   },
   "outputs": [
    {
     "data": {
      "text/plain": [
       "{'the': 1,\n",
       " 'of': 2,\n",
       " 'and': 3,\n",
       " 'to': 4,\n",
       " 'url': 5,\n",
       " 'all': 6,\n",
       " 'in': 7,\n",
       " 'christian': 8,\n",
       " 'on': 9,\n",
       " 'by': 10}"
      ]
     },
     "execution_count": 29,
     "metadata": {},
     "output_type": "execute_result"
    }
   ],
   "source": [
    "vocab_transformer.vocabulary_"
   ]
  },
  {
   "cell_type": "markdown",
   "id": "f6cdae49",
   "metadata": {
    "papermill": {
     "duration": 0.013604,
     "end_time": "2023-06-02T03:29:54.589918",
     "exception": false,
     "start_time": "2023-06-02T03:29:54.576314",
     "status": "completed"
    },
    "tags": []
   },
   "source": [
    "# We are now ready to train our first spam classifier! \n",
    "Let's transform the whole dataset:"
   ]
  },
  {
   "cell_type": "code",
   "execution_count": 30,
   "id": "edda2fd0",
   "metadata": {
    "execution": {
     "iopub.execute_input": "2023-06-02T03:29:54.617745Z",
     "iopub.status.busy": "2023-06-02T03:29:54.617386Z",
     "iopub.status.idle": "2023-06-02T03:30:35.335560Z",
     "shell.execute_reply": "2023-06-02T03:30:35.334412Z"
    },
    "papermill": {
     "duration": 40.735,
     "end_time": "2023-06-02T03:30:35.338165",
     "exception": false,
     "start_time": "2023-06-02T03:29:54.603165",
     "status": "completed"
    },
    "tags": []
   },
   "outputs": [],
   "source": [
    "from sklearn.pipeline import Pipeline\n",
    "\n",
    "preprocess_pipeline = Pipeline([\n",
    "    (\"email_to_wordcount\", EmailToWordCounterTransformer()),\n",
    "    (\"wordcount_to_vector\", WordCounterToVectorTransformer()),\n",
    "])\n",
    "\n",
    "X_train_transformed = preprocess_pipeline.fit_transform(X_train)"
   ]
  },
  {
   "cell_type": "code",
   "execution_count": 31,
   "id": "1a8a744f",
   "metadata": {
    "execution": {
     "iopub.execute_input": "2023-06-02T03:30:35.366669Z",
     "iopub.status.busy": "2023-06-02T03:30:35.365520Z",
     "iopub.status.idle": "2023-06-02T03:30:43.500883Z",
     "shell.execute_reply": "2023-06-02T03:30:43.499782Z"
    },
    "papermill": {
     "duration": 8.152445,
     "end_time": "2023-06-02T03:30:43.503831",
     "exception": false,
     "start_time": "2023-06-02T03:30:35.351386",
     "status": "completed"
    },
    "tags": []
   },
   "outputs": [
    {
     "name": "stderr",
     "output_type": "stream",
     "text": [
      "[Parallel(n_jobs=1)]: Using backend SequentialBackend with 1 concurrent workers.\n"
     ]
    },
    {
     "name": "stdout",
     "output_type": "stream",
     "text": [
      "[CV] END ................................ score: (test=0.981) total time=   0.3s\n"
     ]
    },
    {
     "name": "stderr",
     "output_type": "stream",
     "text": [
      "[Parallel(n_jobs=1)]: Done   1 out of   1 | elapsed:    0.3s remaining:    0.0s\n"
     ]
    },
    {
     "name": "stdout",
     "output_type": "stream",
     "text": [
      "[CV] END ................................ score: (test=0.984) total time=   0.3s\n"
     ]
    },
    {
     "name": "stderr",
     "output_type": "stream",
     "text": [
      "[Parallel(n_jobs=1)]: Done   2 out of   2 | elapsed:    0.6s remaining:    0.0s\n"
     ]
    },
    {
     "name": "stdout",
     "output_type": "stream",
     "text": [
      "[CV] END ................................ score: (test=0.990) total time=   0.5s\n",
      "Logistic Regression (Solver: lbfgs): Mean Score = 0.985\n",
      "[CV] END ................................ score: (test=0.981) total time=   0.1s\n"
     ]
    },
    {
     "name": "stderr",
     "output_type": "stream",
     "text": [
      "[Parallel(n_jobs=1)]: Done   3 out of   3 | elapsed:    1.1s finished\n",
      "[Parallel(n_jobs=1)]: Using backend SequentialBackend with 1 concurrent workers.\n",
      "[Parallel(n_jobs=1)]: Done   1 out of   1 | elapsed:    0.1s remaining:    0.0s\n"
     ]
    },
    {
     "name": "stdout",
     "output_type": "stream",
     "text": [
      "[CV] END ................................ score: (test=0.985) total time=   0.2s\n"
     ]
    },
    {
     "name": "stderr",
     "output_type": "stream",
     "text": [
      "[Parallel(n_jobs=1)]: Done   2 out of   2 | elapsed:    0.3s remaining:    0.0s\n"
     ]
    },
    {
     "name": "stdout",
     "output_type": "stream",
     "text": [
      "[CV] END ................................ score: (test=0.990) total time=   0.3s\n",
      "Logistic Regression (Solver: liblinear): Mean Score = 0.9854166666666666\n"
     ]
    },
    {
     "name": "stderr",
     "output_type": "stream",
     "text": [
      "[Parallel(n_jobs=1)]: Done   3 out of   3 | elapsed:    0.5s finished\n",
      "[Parallel(n_jobs=1)]: Using backend SequentialBackend with 1 concurrent workers.\n"
     ]
    },
    {
     "name": "stdout",
     "output_type": "stream",
     "text": [
      "[CV] END ................................ score: (test=0.981) total time=   0.3s\n"
     ]
    },
    {
     "name": "stderr",
     "output_type": "stream",
     "text": [
      "[Parallel(n_jobs=1)]: Done   1 out of   1 | elapsed:    0.3s remaining:    0.0s\n"
     ]
    },
    {
     "name": "stdout",
     "output_type": "stream",
     "text": [
      "[CV] END ................................ score: (test=0.984) total time=   0.3s\n"
     ]
    },
    {
     "name": "stderr",
     "output_type": "stream",
     "text": [
      "[Parallel(n_jobs=1)]: Done   2 out of   2 | elapsed:    0.5s remaining:    0.0s\n"
     ]
    },
    {
     "name": "stdout",
     "output_type": "stream",
     "text": [
      "[CV] END ................................ score: (test=0.990) total time=   0.3s\n",
      "Logistic Regression (Solver: newton-cg): Mean Score = 0.985\n"
     ]
    },
    {
     "name": "stderr",
     "output_type": "stream",
     "text": [
      "[Parallel(n_jobs=1)]: Done   3 out of   3 | elapsed:    0.9s finished\n",
      "[Parallel(n_jobs=1)]: Using backend SequentialBackend with 1 concurrent workers.\n"
     ]
    },
    {
     "name": "stdout",
     "output_type": "stream",
     "text": [
      "[CV] END ................................ score: (test=0.861) total time=   1.1s\n"
     ]
    },
    {
     "name": "stderr",
     "output_type": "stream",
     "text": [
      "[Parallel(n_jobs=1)]: Done   1 out of   1 | elapsed:    1.1s remaining:    0.0s\n"
     ]
    },
    {
     "name": "stdout",
     "output_type": "stream",
     "text": [
      "[CV] END ................................ score: (test=0.865) total time=   1.1s\n"
     ]
    },
    {
     "name": "stderr",
     "output_type": "stream",
     "text": [
      "[Parallel(n_jobs=1)]: Done   2 out of   2 | elapsed:    2.1s remaining:    0.0s\n"
     ]
    },
    {
     "name": "stdout",
     "output_type": "stream",
     "text": [
      "[CV] END ................................ score: (test=0.865) total time=   1.1s\n",
      "SVM: Mean Score = 0.8637499999999999\n"
     ]
    },
    {
     "name": "stderr",
     "output_type": "stream",
     "text": [
      "[Parallel(n_jobs=1)]: Done   3 out of   3 | elapsed:    3.2s finished\n",
      "[Parallel(n_jobs=1)]: Using backend SequentialBackend with 1 concurrent workers.\n"
     ]
    },
    {
     "name": "stdout",
     "output_type": "stream",
     "text": [
      "[CV] END ................................ score: (test=0.980) total time=   0.7s\n"
     ]
    },
    {
     "name": "stderr",
     "output_type": "stream",
     "text": [
      "[Parallel(n_jobs=1)]: Done   1 out of   1 | elapsed:    0.7s remaining:    0.0s\n"
     ]
    },
    {
     "name": "stdout",
     "output_type": "stream",
     "text": [
      "[CV] END ................................ score: (test=0.986) total time=   0.7s\n"
     ]
    },
    {
     "name": "stderr",
     "output_type": "stream",
     "text": [
      "[Parallel(n_jobs=1)]: Done   2 out of   2 | elapsed:    1.4s remaining:    0.0s\n"
     ]
    },
    {
     "name": "stdout",
     "output_type": "stream",
     "text": [
      "[CV] END ................................ score: (test=0.984) total time=   0.7s\n",
      "Random Forest: Mean Score = 0.9833333333333334\n"
     ]
    },
    {
     "name": "stderr",
     "output_type": "stream",
     "text": [
      "[Parallel(n_jobs=1)]: Done   3 out of   3 | elapsed:    2.1s finished\n"
     ]
    }
   ],
   "source": [
    "from sklearn.linear_model import LogisticRegression\n",
    "from sklearn.svm import SVC\n",
    "from sklearn.ensemble import RandomForestClassifier\n",
    "from sklearn.model_selection import cross_val_score\n",
    "\n",
    "# Logistic Regression with different solvers\n",
    "solvers = [\"lbfgs\", \"liblinear\", \"newton-cg\"]\n",
    "for solver in solvers:\n",
    "    log_clf = LogisticRegression(solver=solver, max_iter=1000, random_state=42)\n",
    "    score = cross_val_score(log_clf, X_train_transformed, y_train, cv=3, verbose=3)\n",
    "    print(f\"Logistic Regression (Solver: {solver}): Mean Score = {score.mean()}\")\n",
    "\n",
    "# Other models\n",
    "models = [\n",
    "    (\"SVM\", SVC()),\n",
    "    (\"Random Forest\", RandomForestClassifier())\n",
    "]\n",
    "\n",
    "for name, model in models:\n",
    "    score = cross_val_score(model, X_train_transformed, y_train, cv=3, verbose=3)\n",
    "    print(f\"{name}: Mean Score = {score.mean()}\")\n"
   ]
  },
  {
   "cell_type": "markdown",
   "id": "163e79c6",
   "metadata": {
    "papermill": {
     "duration": 0.014315,
     "end_time": "2023-06-02T03:30:43.532923",
     "exception": false,
     "start_time": "2023-06-02T03:30:43.518608",
     "status": "completed"
    },
    "tags": []
   },
   "source": [
    "Over 98.5%, not bad. We tried 3 models, and Logistic Regression using liblinear solver has proved to be better among them. Let's fine-tune it."
   ]
  },
  {
   "cell_type": "code",
   "execution_count": 32,
   "id": "72cbe5a8",
   "metadata": {
    "execution": {
     "iopub.execute_input": "2023-06-02T03:30:43.564132Z",
     "iopub.status.busy": "2023-06-02T03:30:43.563744Z",
     "iopub.status.idle": "2023-06-02T03:33:52.578582Z",
     "shell.execute_reply": "2023-06-02T03:33:52.577189Z"
    },
    "papermill": {
     "duration": 189.033481,
     "end_time": "2023-06-02T03:33:52.581292",
     "exception": false,
     "start_time": "2023-06-02T03:30:43.547811",
     "status": "completed"
    },
    "tags": []
   },
   "outputs": [
    {
     "name": "stderr",
     "output_type": "stream",
     "text": [
      "/opt/conda/lib/python3.10/site-packages/sklearn/svm/_base.py:1244: ConvergenceWarning: Liblinear failed to converge, increase the number of iterations.\n",
      "  warnings.warn(\n"
     ]
    },
    {
     "name": "stdout",
     "output_type": "stream",
     "text": [
      "Best Estimator: LogisticRegression(C=1, max_iter=1000, random_state=42, solver='liblinear')\n",
      "Best Mean Score: 0.9854166666666666\n"
     ]
    }
   ],
   "source": [
    "from sklearn.model_selection import GridSearchCV\n",
    "\n",
    "log_clf = LogisticRegression(solver=\"liblinear\", max_iter=1000, random_state=42)\n",
    "\n",
    "# Define the hyperparameter grid for grid search\n",
    "param_grid = {\n",
    "    \"C\": [0.001, 0.01, 0.1, 1, 10, 100],\n",
    "    \"penalty\": [\"l1\", \"l2\"]\n",
    "}\n",
    "\n",
    "# Perform grid search with cross-validation\n",
    "grid_search = GridSearchCV(log_clf, param_grid, cv=3)\n",
    "grid_search.fit(X_train_transformed, y_train)\n",
    "\n",
    "# Get the best estimator and its mean score\n",
    "best_estimator = grid_search.best_estimator_\n",
    "best_score = grid_search.best_score_\n",
    "\n",
    "print(\"Best Estimator:\", best_estimator)\n",
    "print(\"Best Mean Score:\", best_score)\n"
   ]
  },
  {
   "cell_type": "markdown",
   "id": "01247c56",
   "metadata": {
    "papermill": {
     "duration": 0.015558,
     "end_time": "2023-06-02T03:33:52.612971",
     "exception": false,
     "start_time": "2023-06-02T03:33:52.597413",
     "status": "completed"
    },
    "tags": []
   },
   "source": [
    "Let's print out the precision/recall we get on the test set:"
   ]
  },
  {
   "cell_type": "code",
   "execution_count": 33,
   "id": "21bc6381",
   "metadata": {
    "execution": {
     "iopub.execute_input": "2023-06-02T03:33:52.645097Z",
     "iopub.status.busy": "2023-06-02T03:33:52.644712Z",
     "iopub.status.idle": "2023-06-02T03:34:05.526323Z",
     "shell.execute_reply": "2023-06-02T03:34:05.524772Z"
    },
    "papermill": {
     "duration": 12.900751,
     "end_time": "2023-06-02T03:34:05.528764",
     "exception": false,
     "start_time": "2023-06-02T03:33:52.628013",
     "status": "completed"
    },
    "tags": []
   },
   "outputs": [
    {
     "name": "stdout",
     "output_type": "stream",
     "text": [
      "Precision: 96.88%\n",
      "Recall: 97.89%\n"
     ]
    }
   ],
   "source": [
    "from sklearn.metrics import precision_score, recall_score\n",
    "\n",
    "X_test_transformed = preprocess_pipeline.transform(X_test)\n",
    "\n",
    "log_clf = LogisticRegression(solver=\"liblinear\", max_iter=1000, random_state=42)\n",
    "log_clf.fit(X_train_transformed, y_train)\n",
    "\n",
    "y_pred = log_clf.predict(X_test_transformed)\n",
    "\n",
    "print(\"Precision: {:.2f}%\".format(100 * precision_score(y_test, y_pred)))\n",
    "print(\"Recall: {:.2f}%\".format(100 * recall_score(y_test, y_pred)))"
   ]
  },
  {
   "cell_type": "markdown",
   "id": "1715da4a",
   "metadata": {
    "papermill": {
     "duration": 0.014737,
     "end_time": "2023-06-02T03:34:05.558911",
     "exception": false,
     "start_time": "2023-06-02T03:34:05.544174",
     "status": "completed"
    },
    "tags": []
   },
   "source": [
    "ok! let's try it in mails that we download from gmail and check if it classifies them properly or not."
   ]
  },
  {
   "cell_type": "markdown",
   "id": "a03137ca",
   "metadata": {
    "papermill": {
     "duration": 0.01482,
     "end_time": "2023-06-02T03:34:05.588944",
     "exception": false,
     "start_time": "2023-06-02T03:34:05.574124",
     "status": "completed"
    },
    "tags": []
   },
   "source": [
    "**OK let's test it with a new mail just downloaded from the app!**"
   ]
  },
  {
   "cell_type": "markdown",
   "id": "1ed11321",
   "metadata": {
    "papermill": {
     "duration": 0.015191,
     "end_time": "2023-06-02T03:34:05.619361",
     "exception": false,
     "start_time": "2023-06-02T03:34:05.604170",
     "status": "completed"
    },
    "tags": []
   },
   "source": [
    "The `EmailToWordCounterTransformer` is expecting an `EmailMessage` object rather than plain text. \n",
    "In the below code, we create an empty `EmailMessage` object using `EmailMessage(policy=default)`. Then, we set the content of the `email_message` using `email_message.set_content(content)`. Finally, we pass the `email_message` (as a list with a single element) to the pipeline using `preprocess_pipeline.transform()`. This should allow us to transform the email content successfully."
   ]
  },
  {
   "cell_type": "code",
   "execution_count": 34,
   "id": "c42c51fb",
   "metadata": {
    "execution": {
     "iopub.execute_input": "2023-06-02T03:34:05.652446Z",
     "iopub.status.busy": "2023-06-02T03:34:05.652041Z",
     "iopub.status.idle": "2023-06-02T03:34:05.845126Z",
     "shell.execute_reply": "2023-06-02T03:34:05.843907Z"
    },
    "papermill": {
     "duration": 0.212807,
     "end_time": "2023-06-02T03:34:05.847757",
     "exception": false,
     "start_time": "2023-06-02T03:34:05.634950",
     "status": "completed"
    },
    "tags": []
   },
   "outputs": [],
   "source": [
    "from email.message import EmailMessage\n",
    "from email.policy import default\n",
    "\n",
    "# Create an empty EmailMessage object\n",
    "email_message = EmailMessage(policy=default)\n",
    "\n",
    "# path to the uploaded EML (Electronic Mail) file\n",
    "file_path = '/kaggle/input/emailemlextenstion/What big secrets did your mom keep from you_.eml'\n",
    "\n",
    "# Read the contents of the file\n",
    "with open(file_path, 'r') as file:\n",
    "    contents = file.read()\n",
    "\n",
    "# Convert any HTML to plain text\n",
    "content = html_to_plain_text(contents)\n",
    "\n",
    "# Set the content of the email_message\n",
    "email_message.set_content(content)\n",
    "\n",
    "# Transform the email content using the pipeline\n",
    "y_test_mail = preprocess_pipeline.transform([email_message])\n"
   ]
  },
  {
   "cell_type": "code",
   "execution_count": 35,
   "id": "dd82ed29",
   "metadata": {
    "execution": {
     "iopub.execute_input": "2023-06-02T03:34:05.879712Z",
     "iopub.status.busy": "2023-06-02T03:34:05.879352Z",
     "iopub.status.idle": "2023-06-02T03:34:05.884206Z",
     "shell.execute_reply": "2023-06-02T03:34:05.883099Z"
    },
    "papermill": {
     "duration": 0.023416,
     "end_time": "2023-06-02T03:34:05.886327",
     "exception": false,
     "start_time": "2023-06-02T03:34:05.862911",
     "status": "completed"
    },
    "tags": []
   },
   "outputs": [],
   "source": [
    "y_pred = log_clf.predict(y_test_mail)"
   ]
  },
  {
   "cell_type": "code",
   "execution_count": 36,
   "id": "7eddb89b",
   "metadata": {
    "execution": {
     "iopub.execute_input": "2023-06-02T03:34:05.917971Z",
     "iopub.status.busy": "2023-06-02T03:34:05.917641Z",
     "iopub.status.idle": "2023-06-02T03:34:05.923275Z",
     "shell.execute_reply": "2023-06-02T03:34:05.921729Z"
    },
    "papermill": {
     "duration": 0.024025,
     "end_time": "2023-06-02T03:34:05.925468",
     "exception": false,
     "start_time": "2023-06-02T03:34:05.901443",
     "status": "completed"
    },
    "tags": []
   },
   "outputs": [
    {
     "name": "stdout",
     "output_type": "stream",
     "text": [
      "SPAM mail\n"
     ]
    }
   ],
   "source": [
    "if y_pred[0] == 0: print('HAM mail') \n",
    "else : print ('SPAM mail')"
   ]
  },
  {
   "cell_type": "markdown",
   "id": "1f422509",
   "metadata": {
    "papermill": {
     "duration": 0.015031,
     "end_time": "2023-06-02T03:34:05.955965",
     "exception": false,
     "start_time": "2023-06-02T03:34:05.940934",
     "status": "completed"
    },
    "tags": []
   },
   "source": [
    "nice a quora mail which was auto generated was predicted as spam. Our model works."
   ]
  }
 ],
 "metadata": {
  "kernelspec": {
   "display_name": "Python 3",
   "language": "python",
   "name": "python3"
  },
  "language_info": {
   "codemirror_mode": {
    "name": "ipython",
    "version": 3
   },
   "file_extension": ".py",
   "mimetype": "text/x-python",
   "name": "python",
   "nbconvert_exporter": "python",
   "pygments_lexer": "ipython3",
   "version": "3.10.10"
  },
  "papermill": {
   "default_parameters": {},
   "duration": 285.33594,
   "end_time": "2023-06-02T03:34:07.094411",
   "environment_variables": {},
   "exception": null,
   "input_path": "__notebook__.ipynb",
   "output_path": "__notebook__.ipynb",
   "parameters": {},
   "start_time": "2023-06-02T03:29:21.758471",
   "version": "2.4.0"
  }
 },
 "nbformat": 4,
 "nbformat_minor": 5
}
